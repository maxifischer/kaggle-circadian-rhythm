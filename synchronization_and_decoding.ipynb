{
 "cells": [
  {
   "cell_type": "markdown",
   "metadata": {},
   "source": [
    "### Imports"
   ]
  },
  {
   "cell_type": "code",
   "execution_count": 113,
   "metadata": {},
   "outputs": [],
   "source": [
    "import pandas as pd\n",
    "import numpy as np\n",
    "from matplotlib import pyplot as plt\n",
    "from matplotlib import patches\n",
    "from math import sqrt\n",
    "from itertools import product\n",
    "from time import time\n",
    "from collections import Counter\n",
    "from sklearn.ensemble import RandomForestRegressor\n",
    "from sklearn.model_selection import train_test_split\n",
    "from sklearn.model_selection import GridSearchCV"
   ]
  },
  {
   "cell_type": "markdown",
   "metadata": {},
   "source": [
    "# Differences between squares"
   ]
  },
  {
   "cell_type": "markdown",
   "metadata": {},
   "source": [
    "### Various functions"
   ]
  },
  {
   "cell_type": "markdown",
   "metadata": {},
   "source": [
    "Euclidean distance between 2 points on a grid"
   ]
  },
  {
   "cell_type": "code",
   "execution_count": 8,
   "metadata": {},
   "outputs": [],
   "source": [
    "def euclidean_dictance(x1, y1, x2, y2):\n",
    "    return sqrt((x1 - x2)**2 + (y1 - y2)**2)"
   ]
  },
  {
   "cell_type": "markdown",
   "metadata": {},
   "source": [
    "Build a grid of squares of given size tiling a 512x512 image (the `size` parameter is length of the squares' side in pixels). With this kind of grid we know where each of the squares is situated from its number, and can calculate distances"
   ]
  },
  {
   "cell_type": "code",
   "execution_count": 29,
   "metadata": {},
   "outputs": [],
   "source": [
    "def build_square(size=16):\n",
    "    side_length = 512//size\n",
    "    pointdict = {}\n",
    "    x = 0\n",
    "    for i in range(side_length):\n",
    "        for j in range(side_length):\n",
    "            pointdict[x] = (j, i)\n",
    "            x += 1\n",
    "    return pointdict"
   ]
  },
  {
   "cell_type": "markdown",
   "metadata": {},
   "source": [
    "For a given min and max distance, get all points on the grid that are within [min, max) range from a certain point"
   ]
  },
  {
   "cell_type": "code",
   "execution_count": 31,
   "metadata": {},
   "outputs": [],
   "source": [
    "def get_points_within_range(pointdict, number, min_dist, max_dist):\n",
    "    x, y = pointdict[number]\n",
    "    goodpts = []\n",
    "    for pt in pointdict:\n",
    "        if (euclidean_dictance(x, y, pointdict[pt][0], pointdict[pt][1]) < max_dist and\n",
    "            euclidean_dictance(x, y, pointdict[pt][0], pointdict[pt][1]) >= min_dist):\n",
    "            goodpts.append(pt)\n",
    "    return goodpts"
   ]
  },
  {
   "cell_type": "markdown",
   "metadata": {},
   "source": [
    "For each pair of points on a grid, calculate euclidean distance between them"
   ]
  },
  {
   "cell_type": "code",
   "execution_count": 36,
   "metadata": {},
   "outputs": [],
   "source": [
    "def distances_dictionary(pointdict):\n",
    "    pairs = [t for t in list(product(pointdict, pointdict)) if t[0]!=t[1]]\n",
    "    distances_dict = {}\n",
    "    for pair in pairs:\n",
    "        distances_dict[pair] = euclidean_dictance(pointdict[pair[0]][0],\n",
    "                                                  pointdict[pair[0]][1],\n",
    "                                                  pointdict[pair[1]][0],\n",
    "                                                  pointdict[pair[1]][1])\n",
    "    return distances_dict"
   ]
  },
  {
   "cell_type": "markdown",
   "metadata": {},
   "source": [
    "Given a dict of distances between pairs of points, bin pairs into ranges like [1, 2) etc."
   ]
  },
  {
   "cell_type": "code",
   "execution_count": 37,
   "metadata": {},
   "outputs": [],
   "source": [
    "def pairs_per_range(distdict):\n",
    "    max_distance = int(max(list(distdict.values()))) + 1\n",
    "    pairs_by_range = {(i, i+1): [] for i in range(max_distance)}\n",
    "    for pair in distdict:\n",
    "        pairs_by_range[(int(distdict[pair]), int(distdict[pair]) + 1)].append(pair)\n",
    "    return pairs_by_range        "
   ]
  },
  {
   "cell_type": "markdown",
   "metadata": {},
   "source": [
    "Calculate RMSE between 2 arrays"
   ]
  },
  {
   "cell_type": "code",
   "execution_count": 1,
   "metadata": {},
   "outputs": [],
   "source": [
    "def rmse(ar1, ar2):\n",
    "    return np.sqrt(np.mean(np.subtract(ar1, ar2)**2))"
   ]
  },
  {
   "cell_type": "markdown",
   "metadata": {},
   "source": [
    "Calculate mean and median RMSE between pairs which fall into each distance range"
   ]
  },
  {
   "cell_type": "code",
   "execution_count": 39,
   "metadata": {},
   "outputs": [],
   "source": [
    "def average_per_range(pairs_per_range_dict, pointdict, df):\n",
    "    averages_dict = {distance_range: None for\n",
    "                     distance_range in pairs_per_range_dict}\n",
    "    for distance_range in pairs_per_range_dict:\n",
    "        print(distance_range, end=' ')\n",
    "        averages_dict[distance_range] = np.mean([rmse(ar1=df['mean_sq{}'.format(point_pair[0])],\n",
    "                                                      ar2=df['mean_sq{}'.format(point_pair[1])]) for\n",
    "                                                 point_pair in pairs_per_range_dict[distance_range]])\n",
    "    return averages_dict"
   ]
  },
  {
   "cell_type": "code",
   "execution_count": 40,
   "metadata": {},
   "outputs": [],
   "source": [
    "def median_per_range(pairs_per_range_dict, pointdict, df):\n",
    "    medians_dict = {distance_range: None for\n",
    "                    distance_range in pairs_per_range_dict}\n",
    "    for distance_range in pairs_per_range_dict:\n",
    "        print(distance_range, end=' ')\n",
    "        medians_dict[distance_range] = np.median([rmse(ar1=df['mean_sq{}'.format(point_pair[0])],\n",
    "                                                      ar2=df['mean_sq{}'.format(point_pair[1])]) for\n",
    "                                                 point_pair in pairs_per_range_dict[distance_range]])\n",
    "    return medians_dict"
   ]
  },
  {
   "cell_type": "markdown",
   "metadata": {},
   "source": [
    "A special error measure for RMSE in time prediction, so that we don't have errors greater than 12 hours"
   ]
  },
  {
   "cell_type": "code",
   "execution_count": 2,
   "metadata": {},
   "outputs": [],
   "source": [
    "def rmse_time(predicted, actual):\n",
    "    return np.sqrt(np.mean(np.minimum(np.abs(np.subtract(predicted, actual)), np.abs(np.subtract(predicted, actual) - 24))**2))"
   ]
  },
  {
   "cell_type": "markdown",
   "metadata": {},
   "source": [
    "### Test things out visually"
   ]
  },
  {
   "cell_type": "markdown",
   "metadata": {},
   "source": [
    "Build an 8x8 grid"
   ]
  },
  {
   "cell_type": "code",
   "execution_count": 5,
   "metadata": {},
   "outputs": [],
   "source": [
    "pointdict = {}\n",
    "x = 0\n",
    "for i in range(8):\n",
    "    for j in range(8):\n",
    "        pointdict[(i, j)] = x\n",
    "        x += 1"
   ]
  },
  {
   "cell_type": "markdown",
   "metadata": {},
   "source": [
    "Same thing in a list instead of a dict"
   ]
  },
  {
   "cell_type": "code",
   "execution_count": 6,
   "metadata": {},
   "outputs": [],
   "source": [
    "pointlist = []\n",
    "x = 0\n",
    "for i in range(8):\n",
    "    for j in range(8):\n",
    "        pointlist.append([i, j, x])\n",
    "        x += 1"
   ]
  },
  {
   "cell_type": "markdown",
   "metadata": {},
   "source": [
    "Plot the small grid, point 28 marked red"
   ]
  },
  {
   "cell_type": "code",
   "execution_count": 7,
   "metadata": {},
   "outputs": [
    {
     "data": {
      "image/png": "[encoded data removed]",
      "text/plain": [
       "<matplotlib.figure.Figure at 0x21b4311c6a0>"
      ]
     },
     "metadata": {},
     "output_type": "display_data"
    }
   ],
   "source": [
    "for pt in pointlist:\n",
    "    if pt[2] == 28:\n",
    "        plt.plot(pt[0], pt[1], 'ro')\n",
    "    else:\n",
    "        plt.plot(pt[0], pt[1], 'bo')\n",
    "plt.gca().set_aspect('equal', adjustable='box')\n",
    "plt.gca().invert_yaxis()\n",
    "plt.show()"
   ]
  },
  {
   "cell_type": "markdown",
   "metadata": {},
   "source": [
    "Find all points within distance in range [3, 4) from point 0"
   ]
  },
  {
   "cell_type": "code",
   "execution_count": 9,
   "metadata": {},
   "outputs": [],
   "source": [
    "x, y = 0, 0\n",
    "badpts = []\n",
    "goodpts = []\n",
    "for pt in pointlist:\n",
    "    if euclidean_dictance(x, y, pt[0], pt[1]) < 4 and euclidean_dictance(x, y, pt[0], pt[1]) >= 3:\n",
    "        goodpts.append(pt)"
   ]
  },
  {
   "cell_type": "markdown",
   "metadata": {},
   "source": [
    "Plot those points"
   ]
  },
  {
   "cell_type": "code",
   "execution_count": 10,
   "metadata": {},
   "outputs": [
    {
     "data": {
      "image/png": "[encoded data removed]",
      "text/plain": [
       "<matplotlib.figure.Figure at 0x21b43437748>"
      ]
     },
     "metadata": {},
     "output_type": "display_data"
    }
   ],
   "source": [
    "for pt in pointlist:\n",
    "    if pt[2] == 0:\n",
    "        plt.plot(pt[0], pt[1], 'ro')\n",
    "    elif pt in goodpts:\n",
    "        plt.plot(pt[0], pt[1], 'yo')\n",
    "    else:\n",
    "        plt.plot(pt[0], pt[1], 'bo')\n",
    "plt.gca().set_aspect('equal', adjustable='box')\n",
    "plt.gca().invert_yaxis()\n",
    "plt.show()"
   ]
  },
  {
   "cell_type": "markdown",
   "metadata": {},
   "source": [
    "### Read in a dataframe with means of 16x16 squares per image (calculated with a separate script)"
   ]
  },
  {
   "cell_type": "code",
   "execution_count": 178,
   "metadata": {},
   "outputs": [],
   "source": [
    "squares16df = pd.read_csv('means16.csv', index_col=0)"
   ]
  },
  {
   "cell_type": "code",
   "execution_count": 179,
   "metadata": {},
   "outputs": [
    {
     "data": {
      "text/html": [
       "<div>\n",
       "<style scoped>\n",
       "    .dataframe tbody tr th:only-of-type {\n",
       "        vertical-align: middle;\n",
       "    }\n",
       "\n",
       "    .dataframe tbody tr th {\n",
       "        vertical-align: top;\n",
       "    }\n",
       "\n",
       "    .dataframe thead th {\n",
       "        text-align: right;\n",
       "    }\n",
       "</style>\n",
       "<table border=\"1\" class=\"dataframe\">\n",
       "  <thead>\n",
       "    <tr style=\"text-align: right;\">\n",
       "      <th></th>\n",
       "      <th>Image.No.</th>\n",
       "      <th>Frame.No</th>\n",
       "      <th>Time.hrs.</th>\n",
       "      <th>path</th>\n",
       "      <th>loaded</th>\n",
       "      <th>mean_intensity</th>\n",
       "      <th>std_intensity</th>\n",
       "      <th>mean_sq0</th>\n",
       "      <th>mean_sq1</th>\n",
       "      <th>mean_sq2</th>\n",
       "      <th>...</th>\n",
       "      <th>mean_sq1014</th>\n",
       "      <th>mean_sq1015</th>\n",
       "      <th>mean_sq1016</th>\n",
       "      <th>mean_sq1017</th>\n",
       "      <th>mean_sq1018</th>\n",
       "      <th>mean_sq1019</th>\n",
       "      <th>mean_sq1020</th>\n",
       "      <th>mean_sq1021</th>\n",
       "      <th>mean_sq1022</th>\n",
       "      <th>mean_sq1023</th>\n",
       "    </tr>\n",
       "  </thead>\n",
       "  <tbody>\n",
       "    <tr>\n",
       "      <th>0</th>\n",
       "      <td>40</td>\n",
       "      <td>1</td>\n",
       "      <td>3.750892</td>\n",
       "      <td>141110A3.0040</td>\n",
       "      <td>True</td>\n",
       "      <td>2450.778805</td>\n",
       "      <td>413.650524</td>\n",
       "      <td>1713.804688</td>\n",
       "      <td>1755.683594</td>\n",
       "      <td>1786.824219</td>\n",
       "      <td>...</td>\n",
       "      <td>2511.117188</td>\n",
       "      <td>2483.660156</td>\n",
       "      <td>2432.089844</td>\n",
       "      <td>2423.089844</td>\n",
       "      <td>2425.386719</td>\n",
       "      <td>2284.121094</td>\n",
       "      <td>2261.871094</td>\n",
       "      <td>2293.031250</td>\n",
       "      <td>2167.734375</td>\n",
       "      <td>2123.457031</td>\n",
       "    </tr>\n",
       "    <tr>\n",
       "      <th>1</th>\n",
       "      <td>44</td>\n",
       "      <td>2</td>\n",
       "      <td>3.846050</td>\n",
       "      <td>141110A3.0044</td>\n",
       "      <td>True</td>\n",
       "      <td>2411.383465</td>\n",
       "      <td>419.041849</td>\n",
       "      <td>1667.105469</td>\n",
       "      <td>1702.195312</td>\n",
       "      <td>1743.519531</td>\n",
       "      <td>...</td>\n",
       "      <td>2491.675781</td>\n",
       "      <td>2465.074219</td>\n",
       "      <td>2417.628906</td>\n",
       "      <td>2409.375000</td>\n",
       "      <td>2396.800781</td>\n",
       "      <td>2256.851562</td>\n",
       "      <td>2240.300781</td>\n",
       "      <td>2271.394531</td>\n",
       "      <td>2143.828125</td>\n",
       "      <td>2097.484375</td>\n",
       "    </tr>\n",
       "    <tr>\n",
       "      <th>2</th>\n",
       "      <td>45</td>\n",
       "      <td>3</td>\n",
       "      <td>3.946050</td>\n",
       "      <td>141110A3.0045</td>\n",
       "      <td>True</td>\n",
       "      <td>2393.520092</td>\n",
       "      <td>429.238393</td>\n",
       "      <td>1641.464844</td>\n",
       "      <td>1676.917969</td>\n",
       "      <td>1719.128906</td>\n",
       "      <td>...</td>\n",
       "      <td>2505.089844</td>\n",
       "      <td>2474.414062</td>\n",
       "      <td>2421.132812</td>\n",
       "      <td>2410.882812</td>\n",
       "      <td>2400.734375</td>\n",
       "      <td>2257.105469</td>\n",
       "      <td>2244.863281</td>\n",
       "      <td>2276.769531</td>\n",
       "      <td>2148.519531</td>\n",
       "      <td>2100.277344</td>\n",
       "    </tr>\n",
       "    <tr>\n",
       "      <th>3</th>\n",
       "      <td>46</td>\n",
       "      <td>4</td>\n",
       "      <td>4.046050</td>\n",
       "      <td>141110A3.0046</td>\n",
       "      <td>True</td>\n",
       "      <td>2350.644688</td>\n",
       "      <td>433.929205</td>\n",
       "      <td>1594.101562</td>\n",
       "      <td>1632.632812</td>\n",
       "      <td>1666.039062</td>\n",
       "      <td>...</td>\n",
       "      <td>2476.203125</td>\n",
       "      <td>2455.855469</td>\n",
       "      <td>2396.984375</td>\n",
       "      <td>2384.699219</td>\n",
       "      <td>2381.550781</td>\n",
       "      <td>2234.535156</td>\n",
       "      <td>2213.925781</td>\n",
       "      <td>2251.421875</td>\n",
       "      <td>2121.406250</td>\n",
       "      <td>2076.019531</td>\n",
       "    </tr>\n",
       "    <tr>\n",
       "      <th>4</th>\n",
       "      <td>47</td>\n",
       "      <td>5</td>\n",
       "      <td>4.146050</td>\n",
       "      <td>141110A3.0047</td>\n",
       "      <td>True</td>\n",
       "      <td>2337.459301</td>\n",
       "      <td>440.732899</td>\n",
       "      <td>1584.234375</td>\n",
       "      <td>1622.046875</td>\n",
       "      <td>1657.960938</td>\n",
       "      <td>...</td>\n",
       "      <td>2483.917969</td>\n",
       "      <td>2463.121094</td>\n",
       "      <td>2415.062500</td>\n",
       "      <td>2399.242188</td>\n",
       "      <td>2387.968750</td>\n",
       "      <td>2246.507812</td>\n",
       "      <td>2223.867188</td>\n",
       "      <td>2251.546875</td>\n",
       "      <td>2127.738281</td>\n",
       "      <td>2079.640625</td>\n",
       "    </tr>\n",
       "    <tr>\n",
       "      <th>5</th>\n",
       "      <td>48</td>\n",
       "      <td>6</td>\n",
       "      <td>4.246050</td>\n",
       "      <td>141110A3.0048</td>\n",
       "      <td>True</td>\n",
       "      <td>2321.926811</td>\n",
       "      <td>447.106610</td>\n",
       "      <td>1566.968750</td>\n",
       "      <td>1611.007812</td>\n",
       "      <td>1640.265625</td>\n",
       "      <td>...</td>\n",
       "      <td>2494.757812</td>\n",
       "      <td>2483.539062</td>\n",
       "      <td>2427.414062</td>\n",
       "      <td>2404.511719</td>\n",
       "      <td>2399.113281</td>\n",
       "      <td>2249.539062</td>\n",
       "      <td>2230.175781</td>\n",
       "      <td>2249.601562</td>\n",
       "      <td>2132.796875</td>\n",
       "      <td>2090.785156</td>\n",
       "    </tr>\n",
       "    <tr>\n",
       "      <th>6</th>\n",
       "      <td>49</td>\n",
       "      <td>7</td>\n",
       "      <td>4.346050</td>\n",
       "      <td>141110A3.0049</td>\n",
       "      <td>True</td>\n",
       "      <td>2291.294880</td>\n",
       "      <td>448.767757</td>\n",
       "      <td>1545.867188</td>\n",
       "      <td>1588.625000</td>\n",
       "      <td>1619.781250</td>\n",
       "      <td>...</td>\n",
       "      <td>2482.074219</td>\n",
       "      <td>2462.796875</td>\n",
       "      <td>2412.718750</td>\n",
       "      <td>2388.820312</td>\n",
       "      <td>2385.035156</td>\n",
       "      <td>2230.914062</td>\n",
       "      <td>2213.585938</td>\n",
       "      <td>2236.273438</td>\n",
       "      <td>2128.183594</td>\n",
       "      <td>2079.140625</td>\n",
       "    </tr>\n",
       "    <tr>\n",
       "      <th>7</th>\n",
       "      <td>50</td>\n",
       "      <td>8</td>\n",
       "      <td>4.446050</td>\n",
       "      <td>141110A3.0050</td>\n",
       "      <td>True</td>\n",
       "      <td>2298.530254</td>\n",
       "      <td>457.515413</td>\n",
       "      <td>1549.269531</td>\n",
       "      <td>1594.113281</td>\n",
       "      <td>1627.222656</td>\n",
       "      <td>...</td>\n",
       "      <td>2504.945312</td>\n",
       "      <td>2503.019531</td>\n",
       "      <td>2449.750000</td>\n",
       "      <td>2417.253906</td>\n",
       "      <td>2414.019531</td>\n",
       "      <td>2261.859375</td>\n",
       "      <td>2241.136719</td>\n",
       "      <td>2257.933594</td>\n",
       "      <td>2150.132812</td>\n",
       "      <td>2107.847656</td>\n",
       "    </tr>\n",
       "    <tr>\n",
       "      <th>8</th>\n",
       "      <td>51</td>\n",
       "      <td>9</td>\n",
       "      <td>4.546050</td>\n",
       "      <td>141110A3.0051</td>\n",
       "      <td>True</td>\n",
       "      <td>2295.872921</td>\n",
       "      <td>462.988079</td>\n",
       "      <td>1548.339844</td>\n",
       "      <td>1588.753906</td>\n",
       "      <td>1624.964844</td>\n",
       "      <td>...</td>\n",
       "      <td>2532.027344</td>\n",
       "      <td>2522.871094</td>\n",
       "      <td>2461.507812</td>\n",
       "      <td>2429.117188</td>\n",
       "      <td>2438.574219</td>\n",
       "      <td>2270.859375</td>\n",
       "      <td>2245.652344</td>\n",
       "      <td>2264.460938</td>\n",
       "      <td>2163.867188</td>\n",
       "      <td>2114.503906</td>\n",
       "    </tr>\n",
       "    <tr>\n",
       "      <th>9</th>\n",
       "      <td>52</td>\n",
       "      <td>10</td>\n",
       "      <td>4.646050</td>\n",
       "      <td>141110A3.0052</td>\n",
       "      <td>True</td>\n",
       "      <td>2287.554661</td>\n",
       "      <td>467.284781</td>\n",
       "      <td>1544.527344</td>\n",
       "      <td>1581.562500</td>\n",
       "      <td>1613.261719</td>\n",
       "      <td>...</td>\n",
       "      <td>2543.199219</td>\n",
       "      <td>2537.265625</td>\n",
       "      <td>2477.835938</td>\n",
       "      <td>2448.984375</td>\n",
       "      <td>2447.734375</td>\n",
       "      <td>2280.867188</td>\n",
       "      <td>2253.906250</td>\n",
       "      <td>2269.226562</td>\n",
       "      <td>2170.507812</td>\n",
       "      <td>2126.515625</td>\n",
       "    </tr>\n",
       "  </tbody>\n",
       "</table>\n",
       "<p>10 rows × 1031 columns</p>\n",
       "</div>"
      ],
      "text/plain": [
       "   Image.No.  Frame.No  Time.hrs.           path  loaded  mean_intensity  \\\n",
       "0         40         1   3.750892  141110A3.0040    True     2450.778805   \n",
       "1         44         2   3.846050  141110A3.0044    True     2411.383465   \n",
       "2         45         3   3.946050  141110A3.0045    True     2393.520092   \n",
       "3         46         4   4.046050  141110A3.0046    True     2350.644688   \n",
       "4         47         5   4.146050  141110A3.0047    True     2337.459301   \n",
       "5         48         6   4.246050  141110A3.0048    True     2321.926811   \n",
       "6         49         7   4.346050  141110A3.0049    True     2291.294880   \n",
       "7         50         8   4.446050  141110A3.0050    True     2298.530254   \n",
       "8         51         9   4.546050  141110A3.0051    True     2295.872921   \n",
       "9         52        10   4.646050  141110A3.0052    True     2287.554661   \n",
       "\n",
       "   std_intensity     mean_sq0     mean_sq1     mean_sq2     ...       \\\n",
       "0     413.650524  1713.804688  1755.683594  1786.824219     ...        \n",
       "1     419.041849  1667.105469  1702.195312  1743.519531     ...        \n",
       "2     429.238393  1641.464844  1676.917969  1719.128906     ...        \n",
       "3     433.929205  1594.101562  1632.632812  1666.039062     ...        \n",
       "4     440.732899  1584.234375  1622.046875  1657.960938     ...        \n",
       "5     447.106610  1566.968750  1611.007812  1640.265625     ...        \n",
       "6     448.767757  1545.867188  1588.625000  1619.781250     ...        \n",
       "7     457.515413  1549.269531  1594.113281  1627.222656     ...        \n",
       "8     462.988079  1548.339844  1588.753906  1624.964844     ...        \n",
       "9     467.284781  1544.527344  1581.562500  1613.261719     ...        \n",
       "\n",
       "   mean_sq1014  mean_sq1015  mean_sq1016  mean_sq1017  mean_sq1018  \\\n",
       "0  2511.117188  2483.660156  2432.089844  2423.089844  2425.386719   \n",
       "1  2491.675781  2465.074219  2417.628906  2409.375000  2396.800781   \n",
       "2  2505.089844  2474.414062  2421.132812  2410.882812  2400.734375   \n",
       "3  2476.203125  2455.855469  2396.984375  2384.699219  2381.550781   \n",
       "4  2483.917969  2463.121094  2415.062500  2399.242188  2387.968750   \n",
       "5  2494.757812  2483.539062  2427.414062  2404.511719  2399.113281   \n",
       "6  2482.074219  2462.796875  2412.718750  2388.820312  2385.035156   \n",
       "7  2504.945312  2503.019531  2449.750000  2417.253906  2414.019531   \n",
       "8  2532.027344  2522.871094  2461.507812  2429.117188  2438.574219   \n",
       "9  2543.199219  2537.265625  2477.835938  2448.984375  2447.734375   \n",
       "\n",
       "   mean_sq1019  mean_sq1020  mean_sq1021  mean_sq1022  mean_sq1023  \n",
       "0  2284.121094  2261.871094  2293.031250  2167.734375  2123.457031  \n",
       "1  2256.851562  2240.300781  2271.394531  2143.828125  2097.484375  \n",
       "2  2257.105469  2244.863281  2276.769531  2148.519531  2100.277344  \n",
       "3  2234.535156  2213.925781  2251.421875  2121.406250  2076.019531  \n",
       "4  2246.507812  2223.867188  2251.546875  2127.738281  2079.640625  \n",
       "5  2249.539062  2230.175781  2249.601562  2132.796875  2090.785156  \n",
       "6  2230.914062  2213.585938  2236.273438  2128.183594  2079.140625  \n",
       "7  2261.859375  2241.136719  2257.933594  2150.132812  2107.847656  \n",
       "8  2270.859375  2245.652344  2264.460938  2163.867188  2114.503906  \n",
       "9  2280.867188  2253.906250  2269.226562  2170.507812  2126.515625  \n",
       "\n",
       "[10 rows x 1031 columns]"
      ]
     },
     "execution_count": 179,
     "metadata": {},
     "output_type": "execute_result"
    }
   ],
   "source": [
    "squares16df.head(10)"
   ]
  },
  {
   "cell_type": "markdown",
   "metadata": {},
   "source": [
    "Process the dataframe with functions from the previous section so that we can measure differences between squares"
   ]
  },
  {
   "cell_type": "code",
   "execution_count": 23,
   "metadata": {},
   "outputs": [],
   "source": [
    "squares16dict = build_square(size=16)"
   ]
  },
  {
   "cell_type": "code",
   "execution_count": 24,
   "metadata": {},
   "outputs": [],
   "source": [
    "squares16distances = distances_dictionary(squares16dict)"
   ]
  },
  {
   "cell_type": "code",
   "execution_count": 25,
   "metadata": {},
   "outputs": [],
   "source": [
    "squares16byrange = pairs_per_range(squares16distances)"
   ]
  },
  {
   "cell_type": "code",
   "execution_count": 26,
   "metadata": {},
   "outputs": [
    {
     "name": "stdout",
     "output_type": "stream",
     "text": [
      "(7, 8) (10, 11) (40, 41) (39, 40) (5, 6) (8, 9) (18, 19) (22, 23) (31, 32) (19, 20) (1, 2) (6, 7) (12, 13) (11, 12) (27, 28) (25, 26) (28, 29) (4, 5) (0, 1) (20, 21) "
     ]
    },
    {
     "name": "stderr",
     "output_type": "stream",
     "text": [
      "C:\\Anaconda3\\lib\\site-packages\\numpy\\core\\fromnumeric.py:2889: RuntimeWarning: Mean of empty slice.\n",
      "  out=out, **kwargs)\n",
      "C:\\Anaconda3\\lib\\site-packages\\numpy\\core\\_methods.py:80: RuntimeWarning: invalid value encountered in double_scalars\n",
      "  ret = ret.dtype.type(ret / rcount)\n"
     ]
    },
    {
     "name": "stdout",
     "output_type": "stream",
     "text": [
      "(35, 36) (36, 37) (32, 33) (16, 17) (42, 43) (29, 30) (15, 16) (9, 10) (2, 3) (26, 27) (37, 38) (23, 24) (33, 34) (41, 42) (38, 39) (21, 22) (17, 18) (24, 25) (13, 14) (14, 15) (43, 44) (30, 31) (3, 4) (34, 35) 520.1669864654541\n"
     ]
    }
   ],
   "source": [
    "# this was taking long, did a printout to see the progress\n",
    "# since logging does not work here for some reason\n",
    "start = time()\n",
    "squares16averages = average_per_range(df=squares16df,\n",
    "                                      pairs_per_range_dict=squares16byrange,\n",
    "                                      pointdict=squares16dict)\n",
    "print(time() - start)"
   ]
  },
  {
   "cell_type": "markdown",
   "metadata": {},
   "source": [
    "Plot the average RMSE's"
   ]
  },
  {
   "cell_type": "code",
   "execution_count": 102,
   "metadata": {},
   "outputs": [
    {
     "data": {
      "image/png": "[encoded data removed]",
      "text/plain": [
       "<matplotlib.figure.Figure at 0x21b535b4e80>"
      ]
     },
     "metadata": {},
     "output_type": "display_data"
    }
   ],
   "source": [
    "plt.figure(figsize=(10,6))\n",
    "plt.plot([np.mean(key) for key in sorted(squares16averages)], [squares16averages[key] for key in sorted(squares16averages)])\n",
    "# plt.title('Average RMSE of all square pairs with given distance of each other')\n",
    "plt.xlabel('Distance between squares')\n",
    "plt.ylabel('Average RMSE')\n",
    "plt.savefig('rmse.png')\n",
    "plt.show()"
   ]
  },
  {
   "cell_type": "markdown",
   "metadata": {},
   "source": [
    "Check the numbers"
   ]
  },
  {
   "cell_type": "code",
   "execution_count": 63,
   "metadata": {},
   "outputs": [
    {
     "name": "stdout",
     "output_type": "stream",
     "text": [
      "0.5 nan\n",
      "1.5 175.331497068\n",
      "2.5 306.817006331\n",
      "3.5 387.90503444\n",
      "4.5 455.224744377\n",
      "5.5 531.892269741\n",
      "6.5 583.062144214\n",
      "7.5 642.524663683\n",
      "8.5 695.05582052\n",
      "9.5 745.370669177\n",
      "10.5 797.11320185\n",
      "11.5 831.553722068\n",
      "12.5 876.954908326\n",
      "13.5 903.385351335\n",
      "14.5 930.656920157\n",
      "15.5 942.426199833\n",
      "16.5 935.782183742\n",
      "17.5 938.005920637\n",
      "18.5 907.179006225\n",
      "19.5 905.968561141\n",
      "20.5 882.559744683\n",
      "21.5 869.492558536\n",
      "22.5 841.076093288\n",
      "23.5 819.02779807\n",
      "24.5 805.177050304\n",
      "25.5 784.407844981\n",
      "26.5 768.291551362\n",
      "27.5 743.008822678\n",
      "28.5 728.409619958\n",
      "29.5 710.084674259\n",
      "30.5 691.442188787\n",
      "31.5 664.30393446\n",
      "32.5 645.341596793\n",
      "33.5 604.683833943\n",
      "34.5 578.409832777\n",
      "35.5 544.273353532\n",
      "36.5 528.859923568\n",
      "37.5 525.713029132\n",
      "38.5 524.435590298\n",
      "39.5 525.025294661\n",
      "40.5 531.305526348\n",
      "41.5 539.854682911\n",
      "42.5 550.410151632\n",
      "43.5 553.860727218\n"
     ]
    }
   ],
   "source": [
    "for key in sorted(squares16averages):\n",
    "    print(np.mean(key), squares16averages[key])"
   ]
  },
  {
   "cell_type": "markdown",
   "metadata": {},
   "source": [
    "Check that indexing is right and look at points which are in further away pairs"
   ]
  },
  {
   "cell_type": "code",
   "execution_count": 28,
   "metadata": {},
   "outputs": [
    {
     "data": {
      "image/png": "[encoded data removed]",
      "text/plain": [
       "<matplotlib.figure.Figure at 0x21b434375f8>"
      ]
     },
     "metadata": {},
     "output_type": "display_data"
    }
   ],
   "source": [
    "plt.figure(figsize=(10,10))\n",
    "for pt in squares16dict:\n",
    "    plt.plot(squares16dict[pt][0], squares16dict[pt][1], 'bo')\n",
    "for pair in squares16byrange[(40, 41)]:\n",
    "    for point in pair:\n",
    "        plt.plot(squares16dict[point][0], squares16dict[point][1], 'ro')\n",
    "plt.plot(squares16dict[0][0], squares16dict[0][1], 'yo')\n",
    "plt.plot(squares16dict[1][0], squares16dict[1][1], 'yo')\n",
    "plt.plot(squares16dict[1022][0], squares16dict[1022][1], 'yo')\n",
    "plt.gca().set_aspect('equal', adjustable='box')\n",
    "plt.gca().invert_yaxis()\n",
    "plt.show()"
   ]
  },
  {
   "cell_type": "code",
   "execution_count": 360,
   "metadata": {},
   "outputs": [
    {
     "data": {
      "text/plain": [
       "(31, 30)"
      ]
     },
     "execution_count": 360,
     "metadata": {},
     "output_type": "execute_result"
    }
   ],
   "source": [
    "squares16dict[1022]"
   ]
  },
  {
   "cell_type": "markdown",
   "metadata": {},
   "source": [
    "### 8x8 squares"
   ]
  },
  {
   "cell_type": "markdown",
   "metadata": {},
   "source": [
    "Calculated means for 8x8 squares as well, but they are often too small to capture cells well, and processing this amount of numbers is very time-consuming (but could also be that my code is ineffective)"
   ]
  },
  {
   "cell_type": "code",
   "execution_count": 323,
   "metadata": {},
   "outputs": [],
   "source": [
    "squares8df = pd.read_csv('means8.csv', index_col=0)"
   ]
  },
  {
   "cell_type": "code",
   "execution_count": 324,
   "metadata": {},
   "outputs": [
    {
     "data": {
      "text/html": [
       "<div>\n",
       "<style scoped>\n",
       "    .dataframe tbody tr th:only-of-type {\n",
       "        vertical-align: middle;\n",
       "    }\n",
       "\n",
       "    .dataframe tbody tr th {\n",
       "        vertical-align: top;\n",
       "    }\n",
       "\n",
       "    .dataframe thead th {\n",
       "        text-align: right;\n",
       "    }\n",
       "</style>\n",
       "<table border=\"1\" class=\"dataframe\">\n",
       "  <thead>\n",
       "    <tr style=\"text-align: right;\">\n",
       "      <th></th>\n",
       "      <th>Image.No.</th>\n",
       "      <th>Frame.No</th>\n",
       "      <th>Time.hrs.</th>\n",
       "      <th>path</th>\n",
       "      <th>loaded</th>\n",
       "      <th>mean_intensity</th>\n",
       "      <th>std_intensity</th>\n",
       "      <th>mean_sq0</th>\n",
       "      <th>mean_sq1</th>\n",
       "      <th>mean_sq2</th>\n",
       "      <th>...</th>\n",
       "      <th>mean_sq4086</th>\n",
       "      <th>mean_sq4087</th>\n",
       "      <th>mean_sq4088</th>\n",
       "      <th>mean_sq4089</th>\n",
       "      <th>mean_sq4090</th>\n",
       "      <th>mean_sq4091</th>\n",
       "      <th>mean_sq4092</th>\n",
       "      <th>mean_sq4093</th>\n",
       "      <th>mean_sq4094</th>\n",
       "      <th>mean_sq4095</th>\n",
       "    </tr>\n",
       "  </thead>\n",
       "  <tbody>\n",
       "    <tr>\n",
       "      <th>0</th>\n",
       "      <td>40</td>\n",
       "      <td>1</td>\n",
       "      <td>3.750892</td>\n",
       "      <td>141110A3.0040</td>\n",
       "      <td>True</td>\n",
       "      <td>2450.778805</td>\n",
       "      <td>413.650524</td>\n",
       "      <td>1687.203125</td>\n",
       "      <td>1701.625000</td>\n",
       "      <td>1702.906250</td>\n",
       "      <td>...</td>\n",
       "      <td>2243.984375</td>\n",
       "      <td>2236.250000</td>\n",
       "      <td>2224.671875</td>\n",
       "      <td>2230.296875</td>\n",
       "      <td>2303.375000</td>\n",
       "      <td>2228.078125</td>\n",
       "      <td>2168.562500</td>\n",
       "      <td>2114.000000</td>\n",
       "      <td>2093.953125</td>\n",
       "      <td>2063.468750</td>\n",
       "    </tr>\n",
       "    <tr>\n",
       "      <th>1</th>\n",
       "      <td>44</td>\n",
       "      <td>2</td>\n",
       "      <td>3.846050</td>\n",
       "      <td>141110A3.0044</td>\n",
       "      <td>True</td>\n",
       "      <td>2411.383465</td>\n",
       "      <td>419.041849</td>\n",
       "      <td>1634.656250</td>\n",
       "      <td>1660.453125</td>\n",
       "      <td>1655.390625</td>\n",
       "      <td>...</td>\n",
       "      <td>2224.796875</td>\n",
       "      <td>2213.468750</td>\n",
       "      <td>2201.453125</td>\n",
       "      <td>2206.187500</td>\n",
       "      <td>2287.406250</td>\n",
       "      <td>2200.609375</td>\n",
       "      <td>2146.500000</td>\n",
       "      <td>2084.359375</td>\n",
       "      <td>2053.859375</td>\n",
       "      <td>2034.484375</td>\n",
       "    </tr>\n",
       "    <tr>\n",
       "      <th>2</th>\n",
       "      <td>45</td>\n",
       "      <td>3</td>\n",
       "      <td>3.946050</td>\n",
       "      <td>141110A3.0045</td>\n",
       "      <td>True</td>\n",
       "      <td>2393.520092</td>\n",
       "      <td>429.238393</td>\n",
       "      <td>1609.062500</td>\n",
       "      <td>1632.875000</td>\n",
       "      <td>1626.328125</td>\n",
       "      <td>...</td>\n",
       "      <td>2221.765625</td>\n",
       "      <td>2212.609375</td>\n",
       "      <td>2203.875000</td>\n",
       "      <td>2213.984375</td>\n",
       "      <td>2284.953125</td>\n",
       "      <td>2217.828125</td>\n",
       "      <td>2154.765625</td>\n",
       "      <td>2093.781250</td>\n",
       "      <td>2058.078125</td>\n",
       "      <td>2047.109375</td>\n",
       "    </tr>\n",
       "    <tr>\n",
       "      <th>3</th>\n",
       "      <td>46</td>\n",
       "      <td>4</td>\n",
       "      <td>4.046050</td>\n",
       "      <td>141110A3.0046</td>\n",
       "      <td>True</td>\n",
       "      <td>2350.644688</td>\n",
       "      <td>433.929205</td>\n",
       "      <td>1571.328125</td>\n",
       "      <td>1575.484375</td>\n",
       "      <td>1596.656250</td>\n",
       "      <td>...</td>\n",
       "      <td>2203.968750</td>\n",
       "      <td>2194.765625</td>\n",
       "      <td>2184.515625</td>\n",
       "      <td>2184.296875</td>\n",
       "      <td>2255.218750</td>\n",
       "      <td>2211.984375</td>\n",
       "      <td>2126.640625</td>\n",
       "      <td>2070.828125</td>\n",
       "      <td>2038.406250</td>\n",
       "      <td>2008.515625</td>\n",
       "    </tr>\n",
       "    <tr>\n",
       "      <th>4</th>\n",
       "      <td>47</td>\n",
       "      <td>5</td>\n",
       "      <td>4.146050</td>\n",
       "      <td>141110A3.0047</td>\n",
       "      <td>True</td>\n",
       "      <td>2337.459301</td>\n",
       "      <td>440.732899</td>\n",
       "      <td>1562.046875</td>\n",
       "      <td>1575.109375</td>\n",
       "      <td>1582.640625</td>\n",
       "      <td>...</td>\n",
       "      <td>2215.687500</td>\n",
       "      <td>2206.093750</td>\n",
       "      <td>2192.796875</td>\n",
       "      <td>2188.343750</td>\n",
       "      <td>2242.250000</td>\n",
       "      <td>2228.796875</td>\n",
       "      <td>2136.031250</td>\n",
       "      <td>2068.968750</td>\n",
       "      <td>2045.968750</td>\n",
       "      <td>2017.968750</td>\n",
       "    </tr>\n",
       "    <tr>\n",
       "      <th>5</th>\n",
       "      <td>48</td>\n",
       "      <td>6</td>\n",
       "      <td>4.246050</td>\n",
       "      <td>141110A3.0048</td>\n",
       "      <td>True</td>\n",
       "      <td>2321.926811</td>\n",
       "      <td>447.106610</td>\n",
       "      <td>1536.718750</td>\n",
       "      <td>1557.734375</td>\n",
       "      <td>1582.031250</td>\n",
       "      <td>...</td>\n",
       "      <td>2218.765625</td>\n",
       "      <td>2212.718750</td>\n",
       "      <td>2210.046875</td>\n",
       "      <td>2204.968750</td>\n",
       "      <td>2256.265625</td>\n",
       "      <td>2225.484375</td>\n",
       "      <td>2136.703125</td>\n",
       "      <td>2073.546875</td>\n",
       "      <td>2052.250000</td>\n",
       "      <td>2032.781250</td>\n",
       "    </tr>\n",
       "    <tr>\n",
       "      <th>6</th>\n",
       "      <td>49</td>\n",
       "      <td>7</td>\n",
       "      <td>4.346050</td>\n",
       "      <td>141110A3.0049</td>\n",
       "      <td>True</td>\n",
       "      <td>2291.294880</td>\n",
       "      <td>448.767757</td>\n",
       "      <td>1518.859375</td>\n",
       "      <td>1534.921875</td>\n",
       "      <td>1553.468750</td>\n",
       "      <td>...</td>\n",
       "      <td>2212.546875</td>\n",
       "      <td>2191.281250</td>\n",
       "      <td>2186.515625</td>\n",
       "      <td>2186.531250</td>\n",
       "      <td>2240.015625</td>\n",
       "      <td>2238.328125</td>\n",
       "      <td>2133.265625</td>\n",
       "      <td>2066.812500</td>\n",
       "      <td>2043.109375</td>\n",
       "      <td>2027.593750</td>\n",
       "    </tr>\n",
       "    <tr>\n",
       "      <th>7</th>\n",
       "      <td>50</td>\n",
       "      <td>8</td>\n",
       "      <td>4.446050</td>\n",
       "      <td>141110A3.0050</td>\n",
       "      <td>True</td>\n",
       "      <td>2298.530254</td>\n",
       "      <td>457.515413</td>\n",
       "      <td>1513.968750</td>\n",
       "      <td>1546.140625</td>\n",
       "      <td>1564.093750</td>\n",
       "      <td>...</td>\n",
       "      <td>2240.796875</td>\n",
       "      <td>2220.328125</td>\n",
       "      <td>2223.078125</td>\n",
       "      <td>2211.187500</td>\n",
       "      <td>2264.437500</td>\n",
       "      <td>2269.375000</td>\n",
       "      <td>2163.812500</td>\n",
       "      <td>2088.093750</td>\n",
       "      <td>2072.968750</td>\n",
       "      <td>2061.125000</td>\n",
       "    </tr>\n",
       "    <tr>\n",
       "      <th>8</th>\n",
       "      <td>51</td>\n",
       "      <td>9</td>\n",
       "      <td>4.546050</td>\n",
       "      <td>141110A3.0051</td>\n",
       "      <td>True</td>\n",
       "      <td>2295.872921</td>\n",
       "      <td>462.988079</td>\n",
       "      <td>1509.843750</td>\n",
       "      <td>1546.156250</td>\n",
       "      <td>1561.390625</td>\n",
       "      <td>...</td>\n",
       "      <td>2242.156250</td>\n",
       "      <td>2241.875000</td>\n",
       "      <td>2219.859375</td>\n",
       "      <td>2220.375000</td>\n",
       "      <td>2288.515625</td>\n",
       "      <td>2280.984375</td>\n",
       "      <td>2156.015625</td>\n",
       "      <td>2121.734375</td>\n",
       "      <td>2081.734375</td>\n",
       "      <td>2060.843750</td>\n",
       "    </tr>\n",
       "    <tr>\n",
       "      <th>9</th>\n",
       "      <td>52</td>\n",
       "      <td>10</td>\n",
       "      <td>4.646050</td>\n",
       "      <td>141110A3.0052</td>\n",
       "      <td>True</td>\n",
       "      <td>2287.554661</td>\n",
       "      <td>467.284781</td>\n",
       "      <td>1505.843750</td>\n",
       "      <td>1539.312500</td>\n",
       "      <td>1554.984375</td>\n",
       "      <td>...</td>\n",
       "      <td>2260.828125</td>\n",
       "      <td>2254.171875</td>\n",
       "      <td>2236.640625</td>\n",
       "      <td>2224.140625</td>\n",
       "      <td>2285.062500</td>\n",
       "      <td>2285.562500</td>\n",
       "      <td>2171.000000</td>\n",
       "      <td>2113.937500</td>\n",
       "      <td>2091.421875</td>\n",
       "      <td>2080.953125</td>\n",
       "    </tr>\n",
       "  </tbody>\n",
       "</table>\n",
       "<p>10 rows × 4103 columns</p>\n",
       "</div>"
      ],
      "text/plain": [
       "   Image.No.  Frame.No  Time.hrs.           path  loaded  mean_intensity  \\\n",
       "0         40         1   3.750892  141110A3.0040    True     2450.778805   \n",
       "1         44         2   3.846050  141110A3.0044    True     2411.383465   \n",
       "2         45         3   3.946050  141110A3.0045    True     2393.520092   \n",
       "3         46         4   4.046050  141110A3.0046    True     2350.644688   \n",
       "4         47         5   4.146050  141110A3.0047    True     2337.459301   \n",
       "5         48         6   4.246050  141110A3.0048    True     2321.926811   \n",
       "6         49         7   4.346050  141110A3.0049    True     2291.294880   \n",
       "7         50         8   4.446050  141110A3.0050    True     2298.530254   \n",
       "8         51         9   4.546050  141110A3.0051    True     2295.872921   \n",
       "9         52        10   4.646050  141110A3.0052    True     2287.554661   \n",
       "\n",
       "   std_intensity     mean_sq0     mean_sq1     mean_sq2     ...       \\\n",
       "0     413.650524  1687.203125  1701.625000  1702.906250     ...        \n",
       "1     419.041849  1634.656250  1660.453125  1655.390625     ...        \n",
       "2     429.238393  1609.062500  1632.875000  1626.328125     ...        \n",
       "3     433.929205  1571.328125  1575.484375  1596.656250     ...        \n",
       "4     440.732899  1562.046875  1575.109375  1582.640625     ...        \n",
       "5     447.106610  1536.718750  1557.734375  1582.031250     ...        \n",
       "6     448.767757  1518.859375  1534.921875  1553.468750     ...        \n",
       "7     457.515413  1513.968750  1546.140625  1564.093750     ...        \n",
       "8     462.988079  1509.843750  1546.156250  1561.390625     ...        \n",
       "9     467.284781  1505.843750  1539.312500  1554.984375     ...        \n",
       "\n",
       "   mean_sq4086  mean_sq4087  mean_sq4088  mean_sq4089  mean_sq4090  \\\n",
       "0  2243.984375  2236.250000  2224.671875  2230.296875  2303.375000   \n",
       "1  2224.796875  2213.468750  2201.453125  2206.187500  2287.406250   \n",
       "2  2221.765625  2212.609375  2203.875000  2213.984375  2284.953125   \n",
       "3  2203.968750  2194.765625  2184.515625  2184.296875  2255.218750   \n",
       "4  2215.687500  2206.093750  2192.796875  2188.343750  2242.250000   \n",
       "5  2218.765625  2212.718750  2210.046875  2204.968750  2256.265625   \n",
       "6  2212.546875  2191.281250  2186.515625  2186.531250  2240.015625   \n",
       "7  2240.796875  2220.328125  2223.078125  2211.187500  2264.437500   \n",
       "8  2242.156250  2241.875000  2219.859375  2220.375000  2288.515625   \n",
       "9  2260.828125  2254.171875  2236.640625  2224.140625  2285.062500   \n",
       "\n",
       "   mean_sq4091  mean_sq4092  mean_sq4093  mean_sq4094  mean_sq4095  \n",
       "0  2228.078125  2168.562500  2114.000000  2093.953125  2063.468750  \n",
       "1  2200.609375  2146.500000  2084.359375  2053.859375  2034.484375  \n",
       "2  2217.828125  2154.765625  2093.781250  2058.078125  2047.109375  \n",
       "3  2211.984375  2126.640625  2070.828125  2038.406250  2008.515625  \n",
       "4  2228.796875  2136.031250  2068.968750  2045.968750  2017.968750  \n",
       "5  2225.484375  2136.703125  2073.546875  2052.250000  2032.781250  \n",
       "6  2238.328125  2133.265625  2066.812500  2043.109375  2027.593750  \n",
       "7  2269.375000  2163.812500  2088.093750  2072.968750  2061.125000  \n",
       "8  2280.984375  2156.015625  2121.734375  2081.734375  2060.843750  \n",
       "9  2285.562500  2171.000000  2113.937500  2091.421875  2080.953125  \n",
       "\n",
       "[10 rows x 4103 columns]"
      ]
     },
     "execution_count": 324,
     "metadata": {},
     "output_type": "execute_result"
    }
   ],
   "source": [
    "squares8df.head(10)"
   ]
  },
  {
   "cell_type": "code",
   "execution_count": 325,
   "metadata": {},
   "outputs": [],
   "source": [
    "squares8dict = build_square(size=8)"
   ]
  },
  {
   "cell_type": "code",
   "execution_count": 326,
   "metadata": {},
   "outputs": [],
   "source": [
    "squares8distances = distances_dictionary(squares8dict)"
   ]
  },
  {
   "cell_type": "code",
   "execution_count": 327,
   "metadata": {},
   "outputs": [],
   "source": [
    "squares8byrange = pairs_per_range(squares8distances)"
   ]
  },
  {
   "cell_type": "markdown",
   "metadata": {},
   "source": [
    "Left it at that, because next steps were taking really long, and were not really necessary with 16x16 squares already there, although it would be interesting to look at those results as well"
   ]
  },
  {
   "cell_type": "markdown",
   "metadata": {},
   "source": [
    "### Cluster data"
   ]
  },
  {
   "cell_type": "markdown",
   "metadata": {},
   "source": [
    "Get cluster points from Maxi's file"
   ]
  },
  {
   "cell_type": "code",
   "execution_count": 41,
   "metadata": {},
   "outputs": [],
   "source": [
    "with open('clusters_4means_flo12.txt', 'r', encoding='utf-8') as clusters_fh:\n",
    "    clusters_flat = [int(line.strip()) for line in clusters_fh.readlines()]"
   ]
  },
  {
   "cell_type": "markdown",
   "metadata": {},
   "source": [
    "Reshape"
   ]
  },
  {
   "cell_type": "code",
   "execution_count": 42,
   "metadata": {},
   "outputs": [],
   "source": [
    "clusters = np.array(clusters_flat).reshape(-1, 256)"
   ]
  },
  {
   "cell_type": "markdown",
   "metadata": {},
   "source": [
    "Show that the points with large distances all lie in the same cluster (the surroundings)"
   ]
  },
  {
   "cell_type": "code",
   "execution_count": 144,
   "metadata": {},
   "outputs": [
    {
     "data": {
      "image/png": "[encoded data removed]",
      "text/plain": [
       "<matplotlib.figure.Figure at 0x21b54ad0b38>"
      ]
     },
     "metadata": {},
     "output_type": "display_data"
    }
   ],
   "source": [
    "fig, ax1 = plt.subplots(1,1, figsize=(10, 10))\n",
    "ax1.imshow(clusters, cmap = 'Blues')\n",
    "pointlist = []\n",
    "for pair in squares16byrange[(40, 41)]:\n",
    "    for point in pair:\n",
    "        if point in pointlist:\n",
    "            pass\n",
    "        else:\n",
    "            ax1.add_patch(patches.Rectangle((squares16dict[point][0]*8,\n",
    "                                             squares16dict[point][1]*8),\n",
    "                                            8,8,linewidth=1,edgecolor='r',facecolor=(1,0,0,0.3)))\n",
    "            pointlist.append(point)\n",
    "\n",
    "plt.xticks([])\n",
    "plt.yticks([])\n",
    "plt.savefig('big-distances.png')\n",
    "plt.show()"
   ]
  },
  {
   "cell_type": "markdown",
   "metadata": {},
   "source": [
    "Check the cluster points shape"
   ]
  },
  {
   "cell_type": "code",
   "execution_count": 44,
   "metadata": {},
   "outputs": [
    {
     "data": {
      "text/plain": [
       "256"
      ]
     },
     "execution_count": 44,
     "metadata": {},
     "output_type": "execute_result"
    }
   ],
   "source": [
    "len(clusters[0])"
   ]
  },
  {
   "cell_type": "markdown",
   "metadata": {},
   "source": [
    "Function from the other notebook which separates an image into squares"
   ]
  },
  {
   "cell_type": "code",
   "execution_count": 45,
   "metadata": {},
   "outputs": [],
   "source": [
    "def get_squares(image, size=16, image_size=256):\n",
    "    squares = []\n",
    "    i = 0\n",
    "    while i < image_size:\n",
    "        j = 0\n",
    "        while j < image_size:\n",
    "            squares.append([row[j:j+size] for row in image[i:i+size]])\n",
    "            j += size\n",
    "        i += size\n",
    "    return squares"
   ]
  },
  {
   "cell_type": "markdown",
   "metadata": {},
   "source": [
    "Get squares from the cluster data"
   ]
  },
  {
   "cell_type": "code",
   "execution_count": 46,
   "metadata": {},
   "outputs": [],
   "source": [
    "cluster_squares = get_squares(clusters, size=8)"
   ]
  },
  {
   "cell_type": "code",
   "execution_count": 47,
   "metadata": {},
   "outputs": [
    {
     "data": {
      "text/plain": [
       "1024"
      ]
     },
     "execution_count": 47,
     "metadata": {},
     "output_type": "execute_result"
    }
   ],
   "source": [
    "len(cluster_squares)"
   ]
  },
  {
   "cell_type": "markdown",
   "metadata": {},
   "source": [
    "Check that the squares look reasonable on the borders, 17th square is middle of first row, should include surroundings on the left, some outer SCN and the ventricle "
   ]
  },
  {
   "cell_type": "code",
   "execution_count": 48,
   "metadata": {},
   "outputs": [
    {
     "data": {
      "text/plain": [
       "[array([2, 2, 2, 2, 1, 1, 0, 0]),\n",
       " array([2, 2, 2, 2, 1, 1, 0, 0]),\n",
       " array([2, 2, 2, 2, 1, 1, 0, 0]),\n",
       " array([2, 2, 2, 2, 1, 1, 0, 0]),\n",
       " array([2, 2, 2, 2, 1, 1, 0, 0]),\n",
       " array([2, 2, 2, 2, 1, 1, 0, 0]),\n",
       " array([2, 2, 2, 1, 1, 1, 0, 0]),\n",
       " array([2, 2, 2, 1, 1, 0, 0, 0])]"
      ]
     },
     "execution_count": 48,
     "metadata": {},
     "output_type": "execute_result"
    }
   ],
   "source": [
    "cluster_squares[17]"
   ]
  },
  {
   "cell_type": "markdown",
   "metadata": {},
   "source": [
    "Assign a cluster to each 16x16 square; the cluster is assigned if half or more of the pixels belong to that cluster"
   ]
  },
  {
   "cell_type": "code",
   "execution_count": 49,
   "metadata": {},
   "outputs": [],
   "source": [
    "def squares_by_clusters(cluster_squares):\n",
    "    squares_by_clusters_dict = {i: 4 for i in range(len(cluster_squares))}\n",
    "    for i in range(len(cluster_squares)):\n",
    "        cluster_square_counter = Counter([item for\n",
    "                                          sublist in cluster_squares[i] for\n",
    "                                          item in sublist])\n",
    "        for cluster in cluster_square_counter:\n",
    "            if cluster_square_counter[cluster] >= 32:\n",
    "                squares_by_clusters_dict[i] = cluster\n",
    "    return squares_by_clusters_dict"
   ]
  },
  {
   "cell_type": "code",
   "execution_count": 50,
   "metadata": {},
   "outputs": [],
   "source": [
    "clusters16dict = squares_by_clusters(cluster_squares=cluster_squares)"
   ]
  },
  {
   "cell_type": "markdown",
   "metadata": {},
   "source": [
    "Inspect the result visually"
   ]
  },
  {
   "cell_type": "code",
   "execution_count": 52,
   "metadata": {},
   "outputs": [
    {
     "data": {
      "image/png": "[encoded data removed]",
      "text/plain": [
       "<matplotlib.figure.Figure at 0x21b4c9e4470>"
      ]
     },
     "metadata": {},
     "output_type": "display_data"
    }
   ],
   "source": [
    "fig, ax1 = plt.subplots(1,1)\n",
    "ax1.imshow(np.array([clusters16dict[k] for k in sorted(clusters16dict)]).reshape(-1, 32), cmap = 'Blues')\n",
    "# ax1.set_title('Cluster Image')\n",
    "plt.show()"
   ]
  },
  {
   "cell_type": "markdown",
   "metadata": {},
   "source": [
    "For each cluster, get all squares that belong to that cluster"
   ]
  },
  {
   "cell_type": "code",
   "execution_count": 53,
   "metadata": {},
   "outputs": [],
   "source": [
    "def numbers_by_clusters(clusters_squares):\n",
    "    cluster_list = [clusters_squares[k] for k in sorted(clusters_squares)]\n",
    "    numbers_by_clusters_dict = {i: [] for i in range(max(cluster_list) + 1)}\n",
    "    for i, cl in enumerate(cluster_list):\n",
    "        numbers_by_clusters_dict[cl].append(i)\n",
    "    return numbers_by_clusters_dict"
   ]
  },
  {
   "cell_type": "code",
   "execution_count": 54,
   "metadata": {},
   "outputs": [],
   "source": [
    "numbersbyclusters16 = numbers_by_clusters(clusters16dict)"
   ]
  },
  {
   "cell_type": "markdown",
   "metadata": {},
   "source": [
    "#### Distances within cluster 0 (outer SCN)"
   ]
  },
  {
   "cell_type": "code",
   "execution_count": 55,
   "metadata": {},
   "outputs": [],
   "source": [
    "squares = numbersbyclusters16[0]\n",
    "cluster0dict = {s: squares16dict[s] for s in squares}"
   ]
  },
  {
   "cell_type": "code",
   "execution_count": 56,
   "metadata": {},
   "outputs": [],
   "source": [
    "cluster0distances = distances_dictionary(cluster0dict)"
   ]
  },
  {
   "cell_type": "code",
   "execution_count": 57,
   "metadata": {},
   "outputs": [],
   "source": [
    "cluster0byrange = pairs_per_range(cluster0distances)"
   ]
  },
  {
   "cell_type": "code",
   "execution_count": 58,
   "metadata": {},
   "outputs": [
    {
     "name": "stdout",
     "output_type": "stream",
     "text": [
      "(1, 2) (10, 11) (21, 22) (23, 24) (25, 26) (5, 6) (33, 34) (28, 29) (8, 9) (22, 23) (2, 3) (13, 14) (29, 30) (3, 4) (11, 12) (19, 20) (18, 19) (16, 17) (0, 1) (9, 10) "
     ]
    },
    {
     "name": "stderr",
     "output_type": "stream",
     "text": [
      "C:\\Anaconda3\\lib\\site-packages\\numpy\\core\\fromnumeric.py:2889: RuntimeWarning: Mean of empty slice.\n",
      "  out=out, **kwargs)\n",
      "C:\\Anaconda3\\lib\\site-packages\\numpy\\core\\_methods.py:80: RuntimeWarning: invalid value encountered in double_scalars\n",
      "  ret = ret.dtype.type(ret / rcount)\n"
     ]
    },
    {
     "name": "stdout",
     "output_type": "stream",
     "text": [
      "(6, 7) (12, 13) (17, 18) (27, 28) (24, 25) (15, 16) (30, 31) (4, 5) (14, 15) (31, 32) (20, 21) (7, 8) (26, 27) (32, 33) 60.870147943496704\n"
     ]
    }
   ],
   "source": [
    "start = time()\n",
    "cluster0averages = average_per_range(df=squares16df,\n",
    "                                     pairs_per_range_dict=cluster0byrange,\n",
    "                                     pointdict=cluster0dict)\n",
    "print(time() - start)"
   ]
  },
  {
   "cell_type": "code",
   "execution_count": 60,
   "metadata": {},
   "outputs": [
    {
     "data": {
      "image/png": "[encoded data removed]",
      "text/plain": [
       "<matplotlib.figure.Figure at 0x21b4c915438>"
      ]
     },
     "metadata": {},
     "output_type": "display_data"
    }
   ],
   "source": [
    "plt.figure(figsize=(10,7))\n",
    "plt.plot([np.mean(key) for key in sorted(cluster0averages)], [cluster0averages[key] for key in sorted(cluster0averages)])\n",
    "plt.title('Average RMSE of all square pairs with given distance of each other (outer SCN, cluster 0)')\n",
    "plt.xlabel('Distance between squares')\n",
    "plt.ylabel('Average RMSE')\n",
    "plt.show()"
   ]
  },
  {
   "cell_type": "code",
   "execution_count": 501,
   "metadata": {},
   "outputs": [
    {
     "name": "stdout",
     "output_type": "stream",
     "text": [
      "(1, 2) (10, 11) (21, 22) (23, 24) (25, 26) (5, 6) (33, 34) (28, 29) (8, 9) (22, 23) (2, 3) (13, 14) (29, 30) (3, 4) (11, 12) (19, 20) (18, 19) (16, 17) (0, 1) (9, 10) "
     ]
    },
    {
     "name": "stderr",
     "output_type": "stream",
     "text": [
      "C:\\Anaconda3\\lib\\site-packages\\numpy\\core\\fromnumeric.py:2889: RuntimeWarning: Mean of empty slice.\n",
      "  out=out, **kwargs)\n",
      "C:\\Anaconda3\\lib\\site-packages\\numpy\\core\\_methods.py:80: RuntimeWarning: invalid value encountered in double_scalars\n",
      "  ret = ret.dtype.type(ret / rcount)\n"
     ]
    },
    {
     "name": "stdout",
     "output_type": "stream",
     "text": [
      "(6, 7) (12, 13) (17, 18) (27, 28) (24, 25) (15, 16) (30, 31) (4, 5) (14, 15) (31, 32) (20, 21) (7, 8) (26, 27) (32, 33) 52.74589967727661\n"
     ]
    }
   ],
   "source": [
    "start = time()\n",
    "cluster0medians = median_per_range(df=squares16df,\n",
    "                                     pairs_per_range_dict=cluster0byrange,\n",
    "                                     pointdict=cluster0dict)\n",
    "print(time() - start)"
   ]
  },
  {
   "cell_type": "code",
   "execution_count": 502,
   "metadata": {},
   "outputs": [
    {
     "data": {
      "image/png": "[encoded data removed]",
      "text/plain": [
       "<matplotlib.figure.Figure at 0x2be07511080>"
      ]
     },
     "metadata": {},
     "output_type": "display_data"
    }
   ],
   "source": [
    "plt.figure(figsize=(10,7))\n",
    "plt.plot([np.mean(key) for key in sorted(cluster0medians)], [cluster0medians[key] for key in sorted(cluster0medians)])\n",
    "plt.title('Median RMSE of all square pairs with given distance of each other (outer SCN, cluster 0)')\n",
    "plt.xlabel('Distance between squares')\n",
    "plt.ylabel('Median RMSE')\n",
    "plt.show()"
   ]
  },
  {
   "cell_type": "markdown",
   "metadata": {},
   "source": [
    "Check further away points in cluster 0"
   ]
  },
  {
   "cell_type": "code",
   "execution_count": 492,
   "metadata": {},
   "outputs": [
    {
     "data": {
      "image/png": "[encoded data removed]",
      "text/plain": [
       "<matplotlib.figure.Figure at 0x2be10d2a978>"
      ]
     },
     "metadata": {},
     "output_type": "display_data"
    }
   ],
   "source": [
    "fig, ax1 = plt.subplots(1, 1, figsize=(7, 7))\n",
    "ax1.imshow(np.array([clusters16dict[k] for k in sorted(clusters16dict)]).reshape(-1, 32), cmap = 'Blues')\n",
    "for pair in cluster0byrange[(32, 33)]:\n",
    "    for point in pair:\n",
    "        plt.plot(squares16dict[point][0], squares16dict[point][1], 'ro', markersize=4)\n",
    "for pair in cluster0byrange[(33, 34)]:\n",
    "    for point in pair:\n",
    "        plt.plot(squares16dict[point][0], squares16dict[point][1], 'ro', markersize=4)\n",
    "plt.show()"
   ]
  },
  {
   "cell_type": "markdown",
   "metadata": {},
   "source": [
    "#### Distances within cluster 1 (inner SCN)"
   ]
  },
  {
   "cell_type": "code",
   "execution_count": 64,
   "metadata": {},
   "outputs": [],
   "source": [
    "squares1 = numbersbyclusters16[1]\n",
    "cluster1dict = {s: squares16dict[s] for s in squares1}"
   ]
  },
  {
   "cell_type": "code",
   "execution_count": 65,
   "metadata": {},
   "outputs": [],
   "source": [
    "cluster1distances = distances_dictionary(cluster1dict)"
   ]
  },
  {
   "cell_type": "code",
   "execution_count": 66,
   "metadata": {},
   "outputs": [],
   "source": [
    "cluster1byrange = pairs_per_range(cluster1distances)"
   ]
  },
  {
   "cell_type": "code",
   "execution_count": 67,
   "metadata": {},
   "outputs": [
    {
     "name": "stdout",
     "output_type": "stream",
     "text": [
      "(0, 1) (1, 2) "
     ]
    },
    {
     "name": "stderr",
     "output_type": "stream",
     "text": [
      "C:\\Anaconda3\\lib\\site-packages\\numpy\\core\\fromnumeric.py:2889: RuntimeWarning: Mean of empty slice.\n",
      "  out=out, **kwargs)\n",
      "C:\\Anaconda3\\lib\\site-packages\\numpy\\core\\_methods.py:80: RuntimeWarning: invalid value encountered in double_scalars\n",
      "  ret = ret.dtype.type(ret / rcount)\n"
     ]
    },
    {
     "name": "stdout",
     "output_type": "stream",
     "text": [
      "(10, 11) (17, 18) (5, 6) (7, 8) (12, 13) (11, 12) (15, 16) (8, 9) (4, 5) (2, 3) (13, 14) (20, 21) (14, 15) (6, 7) (9, 10) (3, 4) (19, 20) (18, 19) (16, 17) 11.158151388168335\n"
     ]
    }
   ],
   "source": [
    "start = time()\n",
    "cluster1averages = average_per_range(df=squares16df,\n",
    "                                     pairs_per_range_dict=cluster1byrange,\n",
    "                                     pointdict=cluster1dict)\n",
    "print(time() - start)"
   ]
  },
  {
   "cell_type": "code",
   "execution_count": 68,
   "metadata": {},
   "outputs": [
    {
     "data": {
      "image/png": "[encoded data removed]",
      "text/plain": [
       "<matplotlib.figure.Figure at 0x21b4c97d828>"
      ]
     },
     "metadata": {},
     "output_type": "display_data"
    }
   ],
   "source": [
    "plt.figure(figsize=(10,7))\n",
    "plt.plot([np.mean(key) for key in sorted(cluster1averages)], [cluster1averages[key] for key in sorted(cluster1averages)])\n",
    "plt.title('Average RMSE of all square pairs with given distance of each other (inner SCN, cluster 1)')\n",
    "plt.xlabel('Distance between squares')\n",
    "plt.ylabel('Average RMSE')\n",
    "plt.show()"
   ]
  },
  {
   "cell_type": "code",
   "execution_count": 503,
   "metadata": {},
   "outputs": [
    {
     "name": "stdout",
     "output_type": "stream",
     "text": [
      "(0, 1) (1, 2) "
     ]
    },
    {
     "name": "stderr",
     "output_type": "stream",
     "text": [
      "C:\\Anaconda3\\lib\\site-packages\\numpy\\core\\fromnumeric.py:2889: RuntimeWarning: Mean of empty slice.\n",
      "  out=out, **kwargs)\n",
      "C:\\Anaconda3\\lib\\site-packages\\numpy\\core\\_methods.py:80: RuntimeWarning: invalid value encountered in double_scalars\n",
      "  ret = ret.dtype.type(ret / rcount)\n"
     ]
    },
    {
     "name": "stdout",
     "output_type": "stream",
     "text": [
      "(10, 11) (17, 18) (5, 6) (7, 8) (12, 13) (11, 12) (15, 16) (8, 9) (4, 5) (2, 3) (13, 14) (20, 21) (14, 15) (6, 7) (9, 10) (3, 4) (19, 20) (18, 19) (16, 17) 7.824071407318115\n"
     ]
    }
   ],
   "source": [
    "start = time()\n",
    "cluster1medians = median_per_range(df=squares16df,\n",
    "                                     pairs_per_range_dict=cluster1byrange,\n",
    "                                     pointdict=cluster1dict)\n",
    "print(time() - start)"
   ]
  },
  {
   "cell_type": "code",
   "execution_count": 504,
   "metadata": {},
   "outputs": [
    {
     "data": {
      "image/png": "[encoded data removed]",
      "text/plain": [
       "<matplotlib.figure.Figure at 0x2bdc71836a0>"
      ]
     },
     "metadata": {},
     "output_type": "display_data"
    }
   ],
   "source": [
    "plt.figure(figsize=(10,7))\n",
    "plt.plot([np.mean(key) for key in sorted(cluster1medians)], [cluster1medians[key] for key in sorted(cluster1medians)])\n",
    "plt.title('Median RMSE of all square pairs with given distance of each other (inner SCN, cluster 1)')\n",
    "plt.xlabel('Distance between squares')\n",
    "plt.ylabel('Median RMSE')\n",
    "plt.show()"
   ]
  },
  {
   "cell_type": "markdown",
   "metadata": {},
   "source": [
    "#### Distances within cluster 1 without the outside square"
   ]
  },
  {
   "cell_type": "code",
   "execution_count": 495,
   "metadata": {},
   "outputs": [],
   "source": [
    "squares1cont = numbersbyclusters16[1][1:]\n",
    "cluster1contdict = {s: squares16dict[s] for s in squares1cont}"
   ]
  },
  {
   "cell_type": "code",
   "execution_count": 496,
   "metadata": {},
   "outputs": [],
   "source": [
    "cluster1contdistances = distances_dictionary(cluster1contdict)"
   ]
  },
  {
   "cell_type": "code",
   "execution_count": 497,
   "metadata": {},
   "outputs": [],
   "source": [
    "cluster1contbyrange = pairs_per_range(cluster1contdistances)"
   ]
  },
  {
   "cell_type": "code",
   "execution_count": 498,
   "metadata": {},
   "outputs": [
    {
     "name": "stdout",
     "output_type": "stream",
     "text": [
      "(0, 1) (1, 2) "
     ]
    },
    {
     "name": "stderr",
     "output_type": "stream",
     "text": [
      "C:\\Anaconda3\\lib\\site-packages\\numpy\\core\\fromnumeric.py:2889: RuntimeWarning: Mean of empty slice.\n",
      "  out=out, **kwargs)\n",
      "C:\\Anaconda3\\lib\\site-packages\\numpy\\core\\_methods.py:80: RuntimeWarning: invalid value encountered in double_scalars\n",
      "  ret = ret.dtype.type(ret / rcount)\n"
     ]
    },
    {
     "name": "stdout",
     "output_type": "stream",
     "text": [
      "(10, 11) (17, 18) (5, 6) (7, 8) (12, 13) (11, 12) (15, 16) (8, 9) (4, 5) (2, 3) (13, 14) (14, 15) (6, 7) (9, 10) (3, 4) (16, 17) 9.074725151062012\n"
     ]
    }
   ],
   "source": [
    "start = time()\n",
    "cluster1contaverages = average_per_range(df=squares16df,\n",
    "                                     pairs_per_range_dict=cluster1contbyrange,\n",
    "                                     pointdict=cluster1contdict)\n",
    "print(time() - start)"
   ]
  },
  {
   "cell_type": "code",
   "execution_count": 499,
   "metadata": {},
   "outputs": [
    {
     "data": {
      "image/png": "[encoded data removed]",
      "text/plain": [
       "<matplotlib.figure.Figure at 0x2be0a4c94e0>"
      ]
     },
     "metadata": {},
     "output_type": "display_data"
    }
   ],
   "source": [
    "plt.figure(figsize=(10,7))\n",
    "plt.plot([np.mean(key) for key in sorted(cluster1contaverages)], [cluster1contaverages[key] for key in sorted(cluster1contaverages)])\n",
    "plt.title('Average RMSE of all square pairs with given distance of each other (inner SCN, cluster 1)')\n",
    "plt.xlabel('Distance between squares')\n",
    "plt.ylabel('Average RMSE')\n",
    "plt.show()"
   ]
  },
  {
   "cell_type": "markdown",
   "metadata": {},
   "source": [
    "#### Distances within cluster 2 (ventricle)"
   ]
  },
  {
   "cell_type": "code",
   "execution_count": 69,
   "metadata": {},
   "outputs": [],
   "source": [
    "squares2 = numbersbyclusters16[2]\n",
    "cluster2dict = {s: squares16dict[s] for s in squares2}"
   ]
  },
  {
   "cell_type": "code",
   "execution_count": 70,
   "metadata": {},
   "outputs": [],
   "source": [
    "cluster2distances = distances_dictionary(cluster2dict)"
   ]
  },
  {
   "cell_type": "code",
   "execution_count": 71,
   "metadata": {},
   "outputs": [],
   "source": [
    "cluster2byrange = pairs_per_range(cluster2distances)"
   ]
  },
  {
   "cell_type": "code",
   "execution_count": 72,
   "metadata": {},
   "outputs": [
    {
     "name": "stdout",
     "output_type": "stream",
     "text": [
      "(0, 1) (1, 2) (10, 11) (5, 6) (7, 8) "
     ]
    },
    {
     "name": "stderr",
     "output_type": "stream",
     "text": [
      "C:\\Anaconda3\\lib\\site-packages\\numpy\\core\\fromnumeric.py:2889: RuntimeWarning: Mean of empty slice.\n",
      "  out=out, **kwargs)\n",
      "C:\\Anaconda3\\lib\\site-packages\\numpy\\core\\_methods.py:80: RuntimeWarning: invalid value encountered in double_scalars\n",
      "  ret = ret.dtype.type(ret / rcount)\n"
     ]
    },
    {
     "name": "stdout",
     "output_type": "stream",
     "text": [
      "(12, 13) (11, 12) (8, 9) (4, 5) (2, 3) (13, 14) (14, 15) (6, 7) (9, 10) (3, 4) 0.6602318286895752\n"
     ]
    }
   ],
   "source": [
    "start = time()\n",
    "cluster2averages = average_per_range(df=squares16df,\n",
    "                                     pairs_per_range_dict=cluster2byrange,\n",
    "                                     pointdict=cluster2dict)\n",
    "print(time() - start)"
   ]
  },
  {
   "cell_type": "code",
   "execution_count": 73,
   "metadata": {},
   "outputs": [
    {
     "data": {
      "image/png": "[encoded data removed]",
      "text/plain": [
       "<matplotlib.figure.Figure at 0x21b4c97d9e8>"
      ]
     },
     "metadata": {},
     "output_type": "display_data"
    }
   ],
   "source": [
    "plt.figure(figsize=(10,7))\n",
    "plt.plot([np.mean(key) for key in sorted(cluster2averages)], [cluster2averages[key] for key in sorted(cluster2averages)])\n",
    "plt.title('Average RMSE of all square pairs with given distance of each other (ventricle, cluster 2)')\n",
    "plt.xlabel('Distance between squares')\n",
    "plt.ylabel('Average RMSE')\n",
    "plt.show()"
   ]
  },
  {
   "cell_type": "markdown",
   "metadata": {},
   "source": [
    "#### Distances within cluster 3 (surroundings)"
   ]
  },
  {
   "cell_type": "code",
   "execution_count": 74,
   "metadata": {},
   "outputs": [],
   "source": [
    "squares3 = numbersbyclusters16[3]\n",
    "cluster3dict = {s: squares16dict[s] for s in squares3}"
   ]
  },
  {
   "cell_type": "code",
   "execution_count": 75,
   "metadata": {},
   "outputs": [],
   "source": [
    "cluster3distances = distances_dictionary(cluster3dict)"
   ]
  },
  {
   "cell_type": "code",
   "execution_count": 76,
   "metadata": {},
   "outputs": [],
   "source": [
    "cluster3byrange = pairs_per_range(cluster3distances)"
   ]
  },
  {
   "cell_type": "code",
   "execution_count": 77,
   "metadata": {},
   "outputs": [
    {
     "name": "stdout",
     "output_type": "stream",
     "text": [
      "(7, 8) (10, 11) (40, 41) (39, 40) (5, 6) (8, 9) (18, 19) (22, 23) (31, 32) (19, 20) (1, 2) (6, 7) (12, 13) (11, 12) (27, 28) (25, 26) (28, 29) (4, 5) (0, 1) (20, 21) "
     ]
    },
    {
     "name": "stderr",
     "output_type": "stream",
     "text": [
      "C:\\Anaconda3\\lib\\site-packages\\numpy\\core\\fromnumeric.py:2889: RuntimeWarning: Mean of empty slice.\n",
      "  out=out, **kwargs)\n",
      "C:\\Anaconda3\\lib\\site-packages\\numpy\\core\\_methods.py:80: RuntimeWarning: invalid value encountered in double_scalars\n",
      "  ret = ret.dtype.type(ret / rcount)\n"
     ]
    },
    {
     "name": "stdout",
     "output_type": "stream",
     "text": [
      "(35, 36) (36, 37) (32, 33) (16, 17) (42, 43) (29, 30) (15, 16) (9, 10) (2, 3) (26, 27) (37, 38) (23, 24) (33, 34) (41, 42) (38, 39) (21, 22) (17, 18) (24, 25) (13, 14) (14, 15) (43, 44) (30, 31) (3, 4) (34, 35) 115.22176718711853\n"
     ]
    }
   ],
   "source": [
    "start = time()\n",
    "cluster3averages = average_per_range(df=squares16df,\n",
    "                                     pairs_per_range_dict=cluster3byrange,\n",
    "                                     pointdict=cluster3dict)\n",
    "print(time() - start)"
   ]
  },
  {
   "cell_type": "code",
   "execution_count": 78,
   "metadata": {},
   "outputs": [
    {
     "data": {
      "image/png": "[encoded data removed]",
      "text/plain": [
       "<matplotlib.figure.Figure at 0x21b4c97de10>"
      ]
     },
     "metadata": {},
     "output_type": "display_data"
    }
   ],
   "source": [
    "plt.figure(figsize=(10,7))\n",
    "plt.plot([np.mean(key) for key in sorted(cluster3averages)], [cluster3averages[key] for key in sorted(cluster3averages)])\n",
    "plt.title('Average RMSE of all square pairs with given distance of each other')\n",
    "plt.xlabel('Distance between squares')\n",
    "plt.ylabel('Average RMSE')\n",
    "plt.show()"
   ]
  },
  {
   "cell_type": "markdown",
   "metadata": {},
   "source": [
    "### Distances within 4 clusters visualized together"
   ]
  },
  {
   "cell_type": "code",
   "execution_count": 101,
   "metadata": {},
   "outputs": [
    {
     "data": {
      "image/png": "[encoded data removed]",
      "text/plain": [
       "<matplotlib.figure.Figure at 0x21b53365390>"
      ]
     },
     "metadata": {},
     "output_type": "display_data"
    }
   ],
   "source": [
    "plt.figure(figsize=(10,6))\n",
    "plt.plot([np.mean(key) for key in sorted(cluster1averages)], [cluster1averages[key] for key in sorted(cluster1averages)], label='Inner SCN')\n",
    "plt.plot([np.mean(key) for key in sorted(cluster0averages)], [cluster0averages[key] for key in sorted(cluster0averages)], label='Outer SCN')\n",
    "plt.plot([np.mean(key) for key in sorted(cluster2averages)], [cluster2averages[key] for key in sorted(cluster2averages)], label='Ventricle')\n",
    "plt.plot([np.mean(key) for key in sorted(cluster3averages)], [cluster3averages[key] for key in sorted(cluster3averages)], label='Surroundings')\n",
    "# plt.title('Average RMSE of all square pairs in clusters with distance within a given range')\n",
    "plt.xlabel('Distance between squares')\n",
    "plt.ylabel('Average RMSE')\n",
    "plt.legend()\n",
    "\n",
    "plt.savefig('rmse-per-cluster.png')\n",
    "plt.show()"
   ]
  },
  {
   "cell_type": "markdown",
   "metadata": {},
   "source": [
    "# Time mod 24 prediction"
   ]
  },
  {
   "cell_type": "markdown",
   "metadata": {},
   "source": [
    "## Predicting by squares means"
   ]
  },
  {
   "cell_type": "markdown",
   "metadata": {},
   "source": [
    "Make a new dataframe without the unnecessary columns"
   ]
  },
  {
   "cell_type": "code",
   "execution_count": 180,
   "metadata": {},
   "outputs": [],
   "source": [
    "predsquares16df = squares16df.drop(['Image.No.', 'Frame.No', 'path', 'loaded', 'mean_intensity', 'std_intensity'], axis=1)"
   ]
  },
  {
   "cell_type": "code",
   "execution_count": 181,
   "metadata": {},
   "outputs": [
    {
     "data": {
      "text/html": [
       "<div>\n",
       "<style scoped>\n",
       "    .dataframe tbody tr th:only-of-type {\n",
       "        vertical-align: middle;\n",
       "    }\n",
       "\n",
       "    .dataframe tbody tr th {\n",
       "        vertical-align: top;\n",
       "    }\n",
       "\n",
       "    .dataframe thead th {\n",
       "        text-align: right;\n",
       "    }\n",
       "</style>\n",
       "<table border=\"1\" class=\"dataframe\">\n",
       "  <thead>\n",
       "    <tr style=\"text-align: right;\">\n",
       "      <th></th>\n",
       "      <th>Time.hrs.</th>\n",
       "      <th>mean_sq0</th>\n",
       "      <th>mean_sq1</th>\n",
       "      <th>mean_sq2</th>\n",
       "      <th>mean_sq3</th>\n",
       "      <th>mean_sq4</th>\n",
       "      <th>mean_sq5</th>\n",
       "      <th>mean_sq6</th>\n",
       "      <th>mean_sq7</th>\n",
       "      <th>mean_sq8</th>\n",
       "      <th>...</th>\n",
       "      <th>mean_sq1014</th>\n",
       "      <th>mean_sq1015</th>\n",
       "      <th>mean_sq1016</th>\n",
       "      <th>mean_sq1017</th>\n",
       "      <th>mean_sq1018</th>\n",
       "      <th>mean_sq1019</th>\n",
       "      <th>mean_sq1020</th>\n",
       "      <th>mean_sq1021</th>\n",
       "      <th>mean_sq1022</th>\n",
       "      <th>mean_sq1023</th>\n",
       "    </tr>\n",
       "  </thead>\n",
       "  <tbody>\n",
       "    <tr>\n",
       "      <th>0</th>\n",
       "      <td>3.750892</td>\n",
       "      <td>1713.804688</td>\n",
       "      <td>1755.683594</td>\n",
       "      <td>1786.824219</td>\n",
       "      <td>1795.957031</td>\n",
       "      <td>1895.996094</td>\n",
       "      <td>1902.960938</td>\n",
       "      <td>1915.835938</td>\n",
       "      <td>1922.406250</td>\n",
       "      <td>1970.527344</td>\n",
       "      <td>...</td>\n",
       "      <td>2511.117188</td>\n",
       "      <td>2483.660156</td>\n",
       "      <td>2432.089844</td>\n",
       "      <td>2423.089844</td>\n",
       "      <td>2425.386719</td>\n",
       "      <td>2284.121094</td>\n",
       "      <td>2261.871094</td>\n",
       "      <td>2293.031250</td>\n",
       "      <td>2167.734375</td>\n",
       "      <td>2123.457031</td>\n",
       "    </tr>\n",
       "    <tr>\n",
       "      <th>1</th>\n",
       "      <td>3.846050</td>\n",
       "      <td>1667.105469</td>\n",
       "      <td>1702.195312</td>\n",
       "      <td>1743.519531</td>\n",
       "      <td>1744.703125</td>\n",
       "      <td>1845.398438</td>\n",
       "      <td>1844.910156</td>\n",
       "      <td>1859.921875</td>\n",
       "      <td>1869.488281</td>\n",
       "      <td>1927.914062</td>\n",
       "      <td>...</td>\n",
       "      <td>2491.675781</td>\n",
       "      <td>2465.074219</td>\n",
       "      <td>2417.628906</td>\n",
       "      <td>2409.375000</td>\n",
       "      <td>2396.800781</td>\n",
       "      <td>2256.851562</td>\n",
       "      <td>2240.300781</td>\n",
       "      <td>2271.394531</td>\n",
       "      <td>2143.828125</td>\n",
       "      <td>2097.484375</td>\n",
       "    </tr>\n",
       "    <tr>\n",
       "      <th>2</th>\n",
       "      <td>3.946050</td>\n",
       "      <td>1641.464844</td>\n",
       "      <td>1676.917969</td>\n",
       "      <td>1719.128906</td>\n",
       "      <td>1711.695312</td>\n",
       "      <td>1809.792969</td>\n",
       "      <td>1815.007812</td>\n",
       "      <td>1830.867188</td>\n",
       "      <td>1836.640625</td>\n",
       "      <td>1892.210938</td>\n",
       "      <td>...</td>\n",
       "      <td>2505.089844</td>\n",
       "      <td>2474.414062</td>\n",
       "      <td>2421.132812</td>\n",
       "      <td>2410.882812</td>\n",
       "      <td>2400.734375</td>\n",
       "      <td>2257.105469</td>\n",
       "      <td>2244.863281</td>\n",
       "      <td>2276.769531</td>\n",
       "      <td>2148.519531</td>\n",
       "      <td>2100.277344</td>\n",
       "    </tr>\n",
       "    <tr>\n",
       "      <th>3</th>\n",
       "      <td>4.046050</td>\n",
       "      <td>1594.101562</td>\n",
       "      <td>1632.632812</td>\n",
       "      <td>1666.039062</td>\n",
       "      <td>1674.906250</td>\n",
       "      <td>1765.410156</td>\n",
       "      <td>1764.589844</td>\n",
       "      <td>1781.234375</td>\n",
       "      <td>1788.152344</td>\n",
       "      <td>1838.632812</td>\n",
       "      <td>...</td>\n",
       "      <td>2476.203125</td>\n",
       "      <td>2455.855469</td>\n",
       "      <td>2396.984375</td>\n",
       "      <td>2384.699219</td>\n",
       "      <td>2381.550781</td>\n",
       "      <td>2234.535156</td>\n",
       "      <td>2213.925781</td>\n",
       "      <td>2251.421875</td>\n",
       "      <td>2121.406250</td>\n",
       "      <td>2076.019531</td>\n",
       "    </tr>\n",
       "    <tr>\n",
       "      <th>4</th>\n",
       "      <td>4.146050</td>\n",
       "      <td>1584.234375</td>\n",
       "      <td>1622.046875</td>\n",
       "      <td>1657.960938</td>\n",
       "      <td>1656.925781</td>\n",
       "      <td>1750.480469</td>\n",
       "      <td>1748.570312</td>\n",
       "      <td>1761.894531</td>\n",
       "      <td>1767.906250</td>\n",
       "      <td>1812.820312</td>\n",
       "      <td>...</td>\n",
       "      <td>2483.917969</td>\n",
       "      <td>2463.121094</td>\n",
       "      <td>2415.062500</td>\n",
       "      <td>2399.242188</td>\n",
       "      <td>2387.968750</td>\n",
       "      <td>2246.507812</td>\n",
       "      <td>2223.867188</td>\n",
       "      <td>2251.546875</td>\n",
       "      <td>2127.738281</td>\n",
       "      <td>2079.640625</td>\n",
       "    </tr>\n",
       "  </tbody>\n",
       "</table>\n",
       "<p>5 rows × 1025 columns</p>\n",
       "</div>"
      ],
      "text/plain": [
       "   Time.hrs.     mean_sq0     mean_sq1     mean_sq2     mean_sq3     mean_sq4  \\\n",
       "0   3.750892  1713.804688  1755.683594  1786.824219  1795.957031  1895.996094   \n",
       "1   3.846050  1667.105469  1702.195312  1743.519531  1744.703125  1845.398438   \n",
       "2   3.946050  1641.464844  1676.917969  1719.128906  1711.695312  1809.792969   \n",
       "3   4.046050  1594.101562  1632.632812  1666.039062  1674.906250  1765.410156   \n",
       "4   4.146050  1584.234375  1622.046875  1657.960938  1656.925781  1750.480469   \n",
       "\n",
       "      mean_sq5     mean_sq6     mean_sq7     mean_sq8     ...       \\\n",
       "0  1902.960938  1915.835938  1922.406250  1970.527344     ...        \n",
       "1  1844.910156  1859.921875  1869.488281  1927.914062     ...        \n",
       "2  1815.007812  1830.867188  1836.640625  1892.210938     ...        \n",
       "3  1764.589844  1781.234375  1788.152344  1838.632812     ...        \n",
       "4  1748.570312  1761.894531  1767.906250  1812.820312     ...        \n",
       "\n",
       "   mean_sq1014  mean_sq1015  mean_sq1016  mean_sq1017  mean_sq1018  \\\n",
       "0  2511.117188  2483.660156  2432.089844  2423.089844  2425.386719   \n",
       "1  2491.675781  2465.074219  2417.628906  2409.375000  2396.800781   \n",
       "2  2505.089844  2474.414062  2421.132812  2410.882812  2400.734375   \n",
       "3  2476.203125  2455.855469  2396.984375  2384.699219  2381.550781   \n",
       "4  2483.917969  2463.121094  2415.062500  2399.242188  2387.968750   \n",
       "\n",
       "   mean_sq1019  mean_sq1020  mean_sq1021  mean_sq1022  mean_sq1023  \n",
       "0  2284.121094  2261.871094  2293.031250  2167.734375  2123.457031  \n",
       "1  2256.851562  2240.300781  2271.394531  2143.828125  2097.484375  \n",
       "2  2257.105469  2244.863281  2276.769531  2148.519531  2100.277344  \n",
       "3  2234.535156  2213.925781  2251.421875  2121.406250  2076.019531  \n",
       "4  2246.507812  2223.867188  2251.546875  2127.738281  2079.640625  \n",
       "\n",
       "[5 rows x 1025 columns]"
      ]
     },
     "execution_count": 181,
     "metadata": {},
     "output_type": "execute_result"
    }
   ],
   "source": [
    "predsquares16df.head()"
   ]
  },
  {
   "cell_type": "markdown",
   "metadata": {},
   "source": [
    "We want to predict time mod 24"
   ]
  },
  {
   "cell_type": "code",
   "execution_count": 182,
   "metadata": {},
   "outputs": [],
   "source": [
    "predsquares16df['time_of_day'] = predsquares16df['Time.hrs.'] % 24\n",
    "predsquares16df = predsquares16df.drop('Time.hrs.', axis=1)"
   ]
  },
  {
   "cell_type": "code",
   "execution_count": 183,
   "metadata": {},
   "outputs": [
    {
     "data": {
      "text/html": [
       "<div>\n",
       "<style scoped>\n",
       "    .dataframe tbody tr th:only-of-type {\n",
       "        vertical-align: middle;\n",
       "    }\n",
       "\n",
       "    .dataframe tbody tr th {\n",
       "        vertical-align: top;\n",
       "    }\n",
       "\n",
       "    .dataframe thead th {\n",
       "        text-align: right;\n",
       "    }\n",
       "</style>\n",
       "<table border=\"1\" class=\"dataframe\">\n",
       "  <thead>\n",
       "    <tr style=\"text-align: right;\">\n",
       "      <th></th>\n",
       "      <th>mean_sq0</th>\n",
       "      <th>mean_sq1</th>\n",
       "      <th>mean_sq2</th>\n",
       "      <th>mean_sq3</th>\n",
       "      <th>mean_sq4</th>\n",
       "      <th>mean_sq5</th>\n",
       "      <th>mean_sq6</th>\n",
       "      <th>mean_sq7</th>\n",
       "      <th>mean_sq8</th>\n",
       "      <th>mean_sq9</th>\n",
       "      <th>...</th>\n",
       "      <th>mean_sq1015</th>\n",
       "      <th>mean_sq1016</th>\n",
       "      <th>mean_sq1017</th>\n",
       "      <th>mean_sq1018</th>\n",
       "      <th>mean_sq1019</th>\n",
       "      <th>mean_sq1020</th>\n",
       "      <th>mean_sq1021</th>\n",
       "      <th>mean_sq1022</th>\n",
       "      <th>mean_sq1023</th>\n",
       "      <th>time_of_day</th>\n",
       "    </tr>\n",
       "  </thead>\n",
       "  <tbody>\n",
       "    <tr>\n",
       "      <th>1680</th>\n",
       "      <td>2690.363281</td>\n",
       "      <td>2710.054688</td>\n",
       "      <td>2748.121094</td>\n",
       "      <td>2716.312500</td>\n",
       "      <td>2720.257812</td>\n",
       "      <td>2706.292969</td>\n",
       "      <td>2716.910156</td>\n",
       "      <td>2750.265625</td>\n",
       "      <td>2754.488281</td>\n",
       "      <td>2781.398438</td>\n",
       "      <td>...</td>\n",
       "      <td>2741.519531</td>\n",
       "      <td>2689.464844</td>\n",
       "      <td>2552.894531</td>\n",
       "      <td>2502.539062</td>\n",
       "      <td>2450.441406</td>\n",
       "      <td>2399.863281</td>\n",
       "      <td>2338.707031</td>\n",
       "      <td>2270.875000</td>\n",
       "      <td>2216.453125</td>\n",
       "      <td>3.616306</td>\n",
       "    </tr>\n",
       "    <tr>\n",
       "      <th>1681</th>\n",
       "      <td>2695.433594</td>\n",
       "      <td>2722.250000</td>\n",
       "      <td>2745.191406</td>\n",
       "      <td>2718.187500</td>\n",
       "      <td>2726.070312</td>\n",
       "      <td>2704.847656</td>\n",
       "      <td>2721.574219</td>\n",
       "      <td>2745.378906</td>\n",
       "      <td>2764.007812</td>\n",
       "      <td>2780.960938</td>\n",
       "      <td>...</td>\n",
       "      <td>2746.800781</td>\n",
       "      <td>2688.480469</td>\n",
       "      <td>2555.894531</td>\n",
       "      <td>2507.753906</td>\n",
       "      <td>2463.945312</td>\n",
       "      <td>2403.550781</td>\n",
       "      <td>2337.851562</td>\n",
       "      <td>2273.355469</td>\n",
       "      <td>2226.175781</td>\n",
       "      <td>3.716306</td>\n",
       "    </tr>\n",
       "    <tr>\n",
       "      <th>1682</th>\n",
       "      <td>2694.406250</td>\n",
       "      <td>2718.902344</td>\n",
       "      <td>2741.273438</td>\n",
       "      <td>2718.859375</td>\n",
       "      <td>2722.414062</td>\n",
       "      <td>2707.074219</td>\n",
       "      <td>2720.187500</td>\n",
       "      <td>2751.296875</td>\n",
       "      <td>2753.800781</td>\n",
       "      <td>2773.933594</td>\n",
       "      <td>...</td>\n",
       "      <td>2746.105469</td>\n",
       "      <td>2686.972656</td>\n",
       "      <td>2554.828125</td>\n",
       "      <td>2499.882812</td>\n",
       "      <td>2459.394531</td>\n",
       "      <td>2403.164062</td>\n",
       "      <td>2334.429688</td>\n",
       "      <td>2273.386719</td>\n",
       "      <td>2221.156250</td>\n",
       "      <td>3.816306</td>\n",
       "    </tr>\n",
       "    <tr>\n",
       "      <th>1683</th>\n",
       "      <td>2692.414062</td>\n",
       "      <td>2710.628906</td>\n",
       "      <td>2744.882812</td>\n",
       "      <td>2720.308594</td>\n",
       "      <td>2719.769531</td>\n",
       "      <td>2703.921875</td>\n",
       "      <td>2717.316406</td>\n",
       "      <td>2749.761719</td>\n",
       "      <td>2754.652344</td>\n",
       "      <td>2783.589844</td>\n",
       "      <td>...</td>\n",
       "      <td>2735.906250</td>\n",
       "      <td>2679.070312</td>\n",
       "      <td>2548.769531</td>\n",
       "      <td>2503.203125</td>\n",
       "      <td>2452.222656</td>\n",
       "      <td>2402.175781</td>\n",
       "      <td>2329.589844</td>\n",
       "      <td>2272.710938</td>\n",
       "      <td>2215.453125</td>\n",
       "      <td>3.916306</td>\n",
       "    </tr>\n",
       "    <tr>\n",
       "      <th>1684</th>\n",
       "      <td>2689.351562</td>\n",
       "      <td>2715.179688</td>\n",
       "      <td>2743.390625</td>\n",
       "      <td>2718.046875</td>\n",
       "      <td>2720.464844</td>\n",
       "      <td>2706.816406</td>\n",
       "      <td>2713.003906</td>\n",
       "      <td>2748.898438</td>\n",
       "      <td>2756.472656</td>\n",
       "      <td>2781.355469</td>\n",
       "      <td>...</td>\n",
       "      <td>2740.183594</td>\n",
       "      <td>2680.558594</td>\n",
       "      <td>2558.238281</td>\n",
       "      <td>2497.074219</td>\n",
       "      <td>2454.054688</td>\n",
       "      <td>2397.527344</td>\n",
       "      <td>2327.164062</td>\n",
       "      <td>2274.843750</td>\n",
       "      <td>2219.972656</td>\n",
       "      <td>4.016306</td>\n",
       "    </tr>\n",
       "  </tbody>\n",
       "</table>\n",
       "<p>5 rows × 1025 columns</p>\n",
       "</div>"
      ],
      "text/plain": [
       "         mean_sq0     mean_sq1     mean_sq2     mean_sq3     mean_sq4  \\\n",
       "1680  2690.363281  2710.054688  2748.121094  2716.312500  2720.257812   \n",
       "1681  2695.433594  2722.250000  2745.191406  2718.187500  2726.070312   \n",
       "1682  2694.406250  2718.902344  2741.273438  2718.859375  2722.414062   \n",
       "1683  2692.414062  2710.628906  2744.882812  2720.308594  2719.769531   \n",
       "1684  2689.351562  2715.179688  2743.390625  2718.046875  2720.464844   \n",
       "\n",
       "         mean_sq5     mean_sq6     mean_sq7     mean_sq8     mean_sq9  \\\n",
       "1680  2706.292969  2716.910156  2750.265625  2754.488281  2781.398438   \n",
       "1681  2704.847656  2721.574219  2745.378906  2764.007812  2780.960938   \n",
       "1682  2707.074219  2720.187500  2751.296875  2753.800781  2773.933594   \n",
       "1683  2703.921875  2717.316406  2749.761719  2754.652344  2783.589844   \n",
       "1684  2706.816406  2713.003906  2748.898438  2756.472656  2781.355469   \n",
       "\n",
       "         ...       mean_sq1015  mean_sq1016  mean_sq1017  mean_sq1018  \\\n",
       "1680     ...       2741.519531  2689.464844  2552.894531  2502.539062   \n",
       "1681     ...       2746.800781  2688.480469  2555.894531  2507.753906   \n",
       "1682     ...       2746.105469  2686.972656  2554.828125  2499.882812   \n",
       "1683     ...       2735.906250  2679.070312  2548.769531  2503.203125   \n",
       "1684     ...       2740.183594  2680.558594  2558.238281  2497.074219   \n",
       "\n",
       "      mean_sq1019  mean_sq1020  mean_sq1021  mean_sq1022  mean_sq1023  \\\n",
       "1680  2450.441406  2399.863281  2338.707031  2270.875000  2216.453125   \n",
       "1681  2463.945312  2403.550781  2337.851562  2273.355469  2226.175781   \n",
       "1682  2459.394531  2403.164062  2334.429688  2273.386719  2221.156250   \n",
       "1683  2452.222656  2402.175781  2329.589844  2272.710938  2215.453125   \n",
       "1684  2454.054688  2397.527344  2327.164062  2274.843750  2219.972656   \n",
       "\n",
       "      time_of_day  \n",
       "1680     3.616306  \n",
       "1681     3.716306  \n",
       "1682     3.816306  \n",
       "1683     3.916306  \n",
       "1684     4.016306  \n",
       "\n",
       "[5 rows x 1025 columns]"
      ]
     },
     "execution_count": 183,
     "metadata": {},
     "output_type": "execute_result"
    }
   ],
   "source": [
    "predsquares16df.tail()"
   ]
  },
  {
   "cell_type": "markdown",
   "metadata": {},
   "source": [
    "Train-test split"
   ]
  },
  {
   "cell_type": "code",
   "execution_count": 184,
   "metadata": {},
   "outputs": [],
   "source": [
    "train, test = train_test_split(predsquares16df, test_size=0.2, random_state=0)"
   ]
  },
  {
   "cell_type": "markdown",
   "metadata": {},
   "source": [
    "Check the shapes"
   ]
  },
  {
   "cell_type": "code",
   "execution_count": 185,
   "metadata": {},
   "outputs": [
    {
     "data": {
      "text/plain": [
       "(1348, 1025)"
      ]
     },
     "execution_count": 185,
     "metadata": {},
     "output_type": "execute_result"
    }
   ],
   "source": [
    "train.shape"
   ]
  },
  {
   "cell_type": "code",
   "execution_count": 186,
   "metadata": {},
   "outputs": [
    {
     "data": {
      "text/plain": [
       "(337, 1025)"
      ]
     },
     "execution_count": 186,
     "metadata": {},
     "output_type": "execute_result"
    }
   ],
   "source": [
    "test.shape"
   ]
  },
  {
   "cell_type": "code",
   "execution_count": 187,
   "metadata": {},
   "outputs": [],
   "source": [
    "X_train, Y_train = train.drop('time_of_day', axis=1), train.time_of_day\n",
    "X_test, Y_test = test.drop('time_of_day', axis=1), test.time_of_day"
   ]
  },
  {
   "cell_type": "markdown",
   "metadata": {},
   "source": [
    "Trying some random parameters"
   ]
  },
  {
   "cell_type": "code",
   "execution_count": 539,
   "metadata": {},
   "outputs": [
    {
     "data": {
      "text/plain": [
       "RandomForestRegressor(bootstrap=True, criterion='mse', max_depth=5,\n",
       "           max_features='auto', max_leaf_nodes=None,\n",
       "           min_impurity_decrease=0.0, min_impurity_split=None,\n",
       "           min_samples_leaf=1, min_samples_split=2,\n",
       "           min_weight_fraction_leaf=0.0, n_estimators=100, n_jobs=1,\n",
       "           oob_score=False, random_state=0, verbose=0, warm_start=False)"
      ]
     },
     "execution_count": 539,
     "metadata": {},
     "output_type": "execute_result"
    }
   ],
   "source": [
    "regr = RandomForestRegressor(max_depth=5, random_state=0,\n",
    "                             n_estimators=100)\n",
    "regr.fit(X_train, Y_train)"
   ]
  },
  {
   "cell_type": "code",
   "execution_count": 544,
   "metadata": {},
   "outputs": [],
   "source": [
    "preds_train = regr.predict(X_train)"
   ]
  },
  {
   "cell_type": "code",
   "execution_count": 545,
   "metadata": {},
   "outputs": [
    {
     "data": {
      "text/plain": [
       "2.4293499085986059"
      ]
     },
     "execution_count": 545,
     "metadata": {},
     "output_type": "execute_result"
    }
   ],
   "source": [
    "rmse(preds_train, Y_train)"
   ]
  },
  {
   "cell_type": "code",
   "execution_count": 546,
   "metadata": {},
   "outputs": [],
   "source": [
    "preds_test = regr.predict(X_test)"
   ]
  },
  {
   "cell_type": "code",
   "execution_count": 547,
   "metadata": {},
   "outputs": [
    {
     "data": {
      "text/plain": [
       "2.9326068192359069"
      ]
     },
     "execution_count": 547,
     "metadata": {},
     "output_type": "execute_result"
    }
   ],
   "source": [
    "rmse(preds_test, Y_test)"
   ]
  },
  {
   "cell_type": "code",
   "execution_count": 569,
   "metadata": {},
   "outputs": [
    {
     "data": {
      "text/plain": [
       "RandomForestRegressor(bootstrap=True, criterion='mse', max_depth=7,\n",
       "           max_features='auto', max_leaf_nodes=None,\n",
       "           min_impurity_decrease=0.0, min_impurity_split=None,\n",
       "           min_samples_leaf=1, min_samples_split=2,\n",
       "           min_weight_fraction_leaf=0.0, n_estimators=200, n_jobs=1,\n",
       "           oob_score=False, random_state=0, verbose=0, warm_start=False)"
      ]
     },
     "execution_count": 569,
     "metadata": {},
     "output_type": "execute_result"
    }
   ],
   "source": [
    "regr1 = RandomForestRegressor(max_depth=7, random_state=0, n_estimators=200)\n",
    "regr1.fit(X_train, Y_train)"
   ]
  },
  {
   "cell_type": "code",
   "execution_count": 570,
   "metadata": {},
   "outputs": [],
   "source": [
    "preds1_train = regr1.predict(X_train)"
   ]
  },
  {
   "cell_type": "code",
   "execution_count": 571,
   "metadata": {},
   "outputs": [
    {
     "data": {
      "text/plain": [
       "1.4811730401891428"
      ]
     },
     "execution_count": 571,
     "metadata": {},
     "output_type": "execute_result"
    }
   ],
   "source": [
    "rmse(preds1_train, Y_train)"
   ]
  },
  {
   "cell_type": "code",
   "execution_count": 572,
   "metadata": {},
   "outputs": [],
   "source": [
    "preds1_test = regr1.predict(X_test)"
   ]
  },
  {
   "cell_type": "code",
   "execution_count": 573,
   "metadata": {},
   "outputs": [
    {
     "data": {
      "text/plain": [
       "2.0622694944004283"
      ]
     },
     "execution_count": 573,
     "metadata": {},
     "output_type": "execute_result"
    }
   ],
   "source": [
    "rmse(preds1_test, Y_test)"
   ]
  },
  {
   "cell_type": "markdown",
   "metadata": {},
   "source": [
    "### Grid search"
   ]
  },
  {
   "cell_type": "code",
   "execution_count": 577,
   "metadata": {},
   "outputs": [],
   "source": [
    "rfregr = RandomForestRegressor()"
   ]
  },
  {
   "cell_type": "code",
   "execution_count": 575,
   "metadata": {},
   "outputs": [],
   "source": [
    "param_grid = [{'n_estimators': [50, 75, 100, 150, 200, 250, 300], 'max_depth': [1, 2, 3, 5, 7, 10],\n",
    "               'min_samples_leaf': [1, 2, 5, 7], 'random_state': [0]}]"
   ]
  },
  {
   "cell_type": "code",
   "execution_count": 579,
   "metadata": {},
   "outputs": [],
   "source": [
    "gss = GridSearchCV(rfregr, param_grid, cv=5)"
   ]
  },
  {
   "cell_type": "code",
   "execution_count": 580,
   "metadata": {},
   "outputs": [
    {
     "data": {
      "text/plain": [
       "GridSearchCV(cv=5, error_score='raise',\n",
       "       estimator=RandomForestRegressor(bootstrap=True, criterion='mse', max_depth=None,\n",
       "           max_features='auto', max_leaf_nodes=None,\n",
       "           min_impurity_decrease=0.0, min_impurity_split=None,\n",
       "           min_samples_leaf=1, min_samples_split=2,\n",
       "           min_weight_fraction_leaf=0.0, n_estimators=10, n_jobs=1,\n",
       "           oob_score=False, random_state=None, verbose=0, warm_start=False),\n",
       "       fit_params=None, iid=True, n_jobs=1,\n",
       "       param_grid=[{'max_depth': [1, 2, 3, 5, 7, 10], 'n_estimators': [50, 75, 100, 150, 200, 250, 300], 'min_samples_leaf': [1, 2, 5, 7], 'random_state': [0]}],\n",
       "       pre_dispatch='2*n_jobs', refit=True, return_train_score='warn',\n",
       "       scoring=None, verbose=0)"
      ]
     },
     "execution_count": 580,
     "metadata": {},
     "output_type": "execute_result"
    }
   ],
   "source": [
    "# this takes very long\n",
    "gss.fit(X_train, Y_train)"
   ]
  },
  {
   "cell_type": "markdown",
   "metadata": {},
   "source": [
    "Check best params found by gridsearch"
   ]
  },
  {
   "cell_type": "code",
   "execution_count": 584,
   "metadata": {},
   "outputs": [
    {
     "data": {
      "text/plain": [
       "{'max_depth': 10, 'min_samples_leaf': 1, 'n_estimators': 50, 'random_state': 0}"
      ]
     },
     "execution_count": 584,
     "metadata": {},
     "output_type": "execute_result"
    }
   ],
   "source": [
    "gss.best_params_"
   ]
  },
  {
   "cell_type": "code",
   "execution_count": 585,
   "metadata": {},
   "outputs": [],
   "source": [
    "regrbest = RandomForestRegressor(max_depth=10, min_samples_leaf=1, n_estimators=50, random_state=0)"
   ]
  },
  {
   "cell_type": "code",
   "execution_count": 586,
   "metadata": {},
   "outputs": [
    {
     "data": {
      "text/plain": [
       "RandomForestRegressor(bootstrap=True, criterion='mse', max_depth=10,\n",
       "           max_features='auto', max_leaf_nodes=None,\n",
       "           min_impurity_decrease=0.0, min_impurity_split=None,\n",
       "           min_samples_leaf=1, min_samples_split=2,\n",
       "           min_weight_fraction_leaf=0.0, n_estimators=50, n_jobs=1,\n",
       "           oob_score=False, random_state=0, verbose=0, warm_start=False)"
      ]
     },
     "execution_count": 586,
     "metadata": {},
     "output_type": "execute_result"
    }
   ],
   "source": [
    "regrbest.fit(X_train, Y_train)"
   ]
  },
  {
   "cell_type": "code",
   "execution_count": 587,
   "metadata": {},
   "outputs": [],
   "source": [
    "predsbest_train = regrbest.predict(X_train)"
   ]
  },
  {
   "cell_type": "code",
   "execution_count": 592,
   "metadata": {},
   "outputs": [
    {
     "data": {
      "text/plain": [
       "0.94469948081765409"
      ]
     },
     "execution_count": 592,
     "metadata": {},
     "output_type": "execute_result"
    }
   ],
   "source": [
    "rmse(predsbest_train, Y_train)"
   ]
  },
  {
   "cell_type": "code",
   "execution_count": 593,
   "metadata": {},
   "outputs": [],
   "source": [
    "predsbest_test = regrbest.predict(X_test)"
   ]
  },
  {
   "cell_type": "code",
   "execution_count": 594,
   "metadata": {},
   "outputs": [
    {
     "data": {
      "text/plain": [
       "1.6366823578186889"
      ]
     },
     "execution_count": 594,
     "metadata": {},
     "output_type": "execute_result"
    }
   ],
   "source": [
    "rmse(predsbest_test, Y_test)"
   ]
  },
  {
   "cell_type": "markdown",
   "metadata": {},
   "source": [
    "### Best model we got (100 estimators, depth 15)"
   ]
  },
  {
   "cell_type": "code",
   "execution_count": 667,
   "metadata": {},
   "outputs": [
    {
     "data": {
      "text/plain": [
       "0.78044089555559193"
      ]
     },
     "execution_count": 667,
     "metadata": {},
     "output_type": "execute_result"
    }
   ],
   "source": [
    "mypreds_train = myregr.predict(X_train)\n",
    "rmse(mypreds_train, Y_train)"
   ]
  },
  {
   "cell_type": "code",
   "execution_count": 668,
   "metadata": {},
   "outputs": [
    {
     "data": {
      "text/plain": [
       "1.557930762857346"
      ]
     },
     "execution_count": 668,
     "metadata": {},
     "output_type": "execute_result"
    }
   ],
   "source": [
    "mypreds_test = myregr.predict(X_test)\n",
    "rmse(mypreds_test, Y_test)"
   ]
  },
  {
   "cell_type": "markdown",
   "metadata": {},
   "source": [
    "Use RMSE_time to evaluate; it's the same as RMSE on train, but lower on test"
   ]
  },
  {
   "cell_type": "code",
   "execution_count": 669,
   "metadata": {},
   "outputs": [
    {
     "data": {
      "text/plain": [
       "0.78044089555559193"
      ]
     },
     "execution_count": 669,
     "metadata": {},
     "output_type": "execute_result"
    }
   ],
   "source": [
    "rmse_time(mypreds_train, Y_train)"
   ]
  },
  {
   "cell_type": "code",
   "execution_count": 670,
   "metadata": {},
   "outputs": [
    {
     "data": {
      "text/plain": [
       "1.0636466085778533"
      ]
     },
     "execution_count": 670,
     "metadata": {},
     "output_type": "execute_result"
    }
   ],
   "source": [
    "rmse_time(mypreds_test, Y_test)"
   ]
  },
  {
   "cell_type": "markdown",
   "metadata": {},
   "source": [
    "Examine fature importance"
   ]
  },
  {
   "cell_type": "code",
   "execution_count": 671,
   "metadata": {},
   "outputs": [],
   "source": [
    "importances = myregr.feature_importances_"
   ]
  },
  {
   "cell_type": "code",
   "execution_count": 675,
   "metadata": {},
   "outputs": [],
   "source": [
    "importances = myregr.feature_importances_\n",
    "std = np.std([tree.feature_importances_ for tree in myregr.estimators_],\n",
    "             axis=0)\n",
    "indices = np.argsort(importances)[::-1]\n",
    "\n",
    "# Print the feature ranking\n",
    "# print(\"Feature ranking:\")\n",
    "\n",
    "# for f in range(X_train.shape[1]):\n",
    "#     print(\"%d. feature %d (%f)\" % (f + 1, indices[f], importances[indices[f]]))"
   ]
  },
  {
   "cell_type": "markdown",
   "metadata": {},
   "source": [
    "Feature ranking:\n",
    "1. feature 878 (0.151603)\n",
    "2. feature 910 (0.119279)\n",
    "3. feature 908 (0.108346)\n",
    "4. feature 808 (0.041265)\n",
    "5. feature 620 (0.028892)\n",
    "6. feature 755 (0.026627)\n",
    "7. feature 820 (0.024153)\n",
    "8. feature 807 (0.022874)\n",
    "9. feature 909 (0.012035)\n",
    "10. feature 749 (0.010834)"
   ]
  },
  {
   "cell_type": "markdown",
   "metadata": {},
   "source": [
    "### Locations of most important features"
   ]
  },
  {
   "cell_type": "code",
   "execution_count": 689,
   "metadata": {},
   "outputs": [
    {
     "data": {
      "image/png": "[encoded data removed]",
      "text/plain": [
       "<matplotlib.figure.Figure at 0x2be10a1c6a0>"
      ]
     },
     "metadata": {},
     "output_type": "display_data"
    }
   ],
   "source": [
    "fig, ax1 = plt.subplots(1,1, figsize=(7, 7))\n",
    "ax1.imshow(clusters, cmap = 'Blues')\n",
    "for point in [878, 910, 908, 808, 620, 755, 820, 807, 909, 749]:\n",
    "    plt.plot(squares16dict[point][0]*8, squares16dict[point][1]*8, 'ro', markersize=8)\n",
    "# ax1.set_title('Cluster Image')\n",
    "plt.show()"
   ]
  },
  {
   "cell_type": "code",
   "execution_count": 683,
   "metadata": {},
   "outputs": [
    {
     "data": {
      "image/png": "[encoded data removed]",
      "text/plain": [
       "<matplotlib.figure.Figure at 0x2bdc5677cf8>"
      ]
     },
     "metadata": {},
     "output_type": "display_data"
    }
   ],
   "source": [
    "fig, ax1 = plt.subplots(1, 1, figsize=(7, 7))\n",
    "ax1.imshow(np.array([clusters16dict[k] for k in sorted(clusters16dict)]).reshape(-1, 32), cmap = 'Blues')\n",
    "for point in [878, 910, 908, 808, 620, 755, 820, 807, 909, 749]:\n",
    "    plt.plot(squares16dict[point][0], squares16dict[point][1], 'ro', markersize=9)\n",
    "plt.show()"
   ]
  },
  {
   "cell_type": "code",
   "execution_count": 272,
   "metadata": {},
   "outputs": [
    {
     "data": {
      "image/png": "[encoded data removed]",
      "text/plain": [
       "<matplotlib.figure.Figure at 0x21b55f2bbe0>"
      ]
     },
     "metadata": {},
     "output_type": "display_data"
    }
   ],
   "source": [
    "fig, ax1 = plt.subplots(1,1, figsize=(10, 10))\n",
    "ax1.imshow(clusters, cmap = 'Blues')\n",
    "pointlist = []\n",
    "opacity = 1\n",
    "for point in [878, 910, 908, 808]:#, 620, 755, 820, 807, 909, 749]:\n",
    "    ax1.add_patch(patches.Rectangle((squares16dict[point][0]*8,\n",
    "                                             squares16dict[point][1]*8),\n",
    "                                            8,8,linewidth=1,edgecolor='r',facecolor=(1,0,0,opacity)))\n",
    "    opacity -= 0.3\n",
    "\n",
    "plt.xticks([])\n",
    "plt.yticks([])\n",
    "plt.savefig('feature-importance.png')\n",
    "plt.show()"
   ]
  },
  {
   "cell_type": "markdown",
   "metadata": {},
   "source": [
    "### Some more random poking"
   ]
  },
  {
   "cell_type": "code",
   "execution_count": 601,
   "metadata": {},
   "outputs": [],
   "source": [
    "myregr = RandomForestRegressor(max_depth=15, min_samples_leaf=1, n_estimators=50, random_state=0)"
   ]
  },
  {
   "cell_type": "code",
   "execution_count": 602,
   "metadata": {},
   "outputs": [
    {
     "data": {
      "text/plain": [
       "RandomForestRegressor(bootstrap=True, criterion='mse', max_depth=15,\n",
       "           max_features='auto', max_leaf_nodes=None,\n",
       "           min_impurity_decrease=0.0, min_impurity_split=None,\n",
       "           min_samples_leaf=1, min_samples_split=2,\n",
       "           min_weight_fraction_leaf=0.0, n_estimators=50, n_jobs=1,\n",
       "           oob_score=False, random_state=0, verbose=0, warm_start=False)"
      ]
     },
     "execution_count": 602,
     "metadata": {},
     "output_type": "execute_result"
    }
   ],
   "source": [
    "myregr.fit(X_train, Y_train)"
   ]
  },
  {
   "cell_type": "code",
   "execution_count": 603,
   "metadata": {},
   "outputs": [
    {
     "data": {
      "text/plain": [
       "0.82612945028230855"
      ]
     },
     "execution_count": 603,
     "metadata": {},
     "output_type": "execute_result"
    }
   ],
   "source": [
    "mypreds_train = myregr.predict(X_train)\n",
    "rmse(mypreds_train, Y_train)"
   ]
  },
  {
   "cell_type": "code",
   "execution_count": 604,
   "metadata": {},
   "outputs": [
    {
     "data": {
      "text/plain": [
       "1.5395968785154628"
      ]
     },
     "execution_count": 604,
     "metadata": {},
     "output_type": "execute_result"
    }
   ],
   "source": [
    "mypreds_test = myregr.predict(X_test)\n",
    "rmse(mypreds_test, Y_test)"
   ]
  },
  {
   "cell_type": "code",
   "execution_count": 613,
   "metadata": {},
   "outputs": [],
   "source": [
    "myregr = RandomForestRegressor(max_depth=15, min_samples_leaf=1, n_estimators=60, random_state=0)"
   ]
  },
  {
   "cell_type": "code",
   "execution_count": 614,
   "metadata": {},
   "outputs": [
    {
     "data": {
      "text/plain": [
       "RandomForestRegressor(bootstrap=True, criterion='mse', max_depth=15,\n",
       "           max_features='auto', max_leaf_nodes=None,\n",
       "           min_impurity_decrease=0.0, min_impurity_split=None,\n",
       "           min_samples_leaf=1, min_samples_split=2,\n",
       "           min_weight_fraction_leaf=0.0, n_estimators=60, n_jobs=1,\n",
       "           oob_score=False, random_state=0, verbose=0, warm_start=False)"
      ]
     },
     "execution_count": 614,
     "metadata": {},
     "output_type": "execute_result"
    }
   ],
   "source": [
    "myregr.fit(X_train, Y_train)"
   ]
  },
  {
   "cell_type": "code",
   "execution_count": 615,
   "metadata": {},
   "outputs": [
    {
     "data": {
      "text/plain": [
       "0.79741994379820857"
      ]
     },
     "execution_count": 615,
     "metadata": {},
     "output_type": "execute_result"
    }
   ],
   "source": [
    "mypreds_train = myregr.predict(X_train)\n",
    "rmse(mypreds_train, Y_train)"
   ]
  },
  {
   "cell_type": "code",
   "execution_count": 616,
   "metadata": {},
   "outputs": [
    {
     "data": {
      "text/plain": [
       "1.5588732282844551"
      ]
     },
     "execution_count": 616,
     "metadata": {},
     "output_type": "execute_result"
    }
   ],
   "source": [
    "mypreds_test = myregr.predict(X_test)\n",
    "rmse(mypreds_test, Y_test)"
   ]
  },
  {
   "cell_type": "code",
   "execution_count": 220,
   "metadata": {},
   "outputs": [],
   "source": [
    "myregr = RandomForestRegressor(max_depth=15, min_samples_leaf=1, n_estimators=75, random_state=0)"
   ]
  },
  {
   "cell_type": "code",
   "execution_count": 221,
   "metadata": {},
   "outputs": [
    {
     "data": {
      "text/plain": [
       "RandomForestRegressor(bootstrap=True, criterion='mse', max_depth=15,\n",
       "           max_features='auto', max_leaf_nodes=None,\n",
       "           min_impurity_decrease=0.0, min_impurity_split=None,\n",
       "           min_samples_leaf=1, min_samples_split=2,\n",
       "           min_weight_fraction_leaf=0.0, n_estimators=75, n_jobs=1,\n",
       "           oob_score=False, random_state=0, verbose=0, warm_start=False)"
      ]
     },
     "execution_count": 221,
     "metadata": {},
     "output_type": "execute_result"
    }
   ],
   "source": [
    "myregr.fit(X_train, Y_train)"
   ]
  },
  {
   "cell_type": "code",
   "execution_count": 222,
   "metadata": {},
   "outputs": [
    {
     "data": {
      "text/plain": [
       "0.84223579145865723"
      ]
     },
     "execution_count": 222,
     "metadata": {},
     "output_type": "execute_result"
    }
   ],
   "source": [
    "mypreds_train = myregr.predict(X_train)\n",
    "rmse(mypreds_train, Y_train)"
   ]
  },
  {
   "cell_type": "code",
   "execution_count": 223,
   "metadata": {},
   "outputs": [
    {
     "data": {
      "text/plain": [
       "0.84223579145865723"
      ]
     },
     "execution_count": 223,
     "metadata": {},
     "output_type": "execute_result"
    }
   ],
   "source": [
    "rmse_time(mypreds_train, Y_train)"
   ]
  },
  {
   "cell_type": "code",
   "execution_count": 214,
   "metadata": {},
   "outputs": [
    {
     "data": {
      "text/plain": [
       "1.4760726290495614"
      ]
     },
     "execution_count": 214,
     "metadata": {},
     "output_type": "execute_result"
    }
   ],
   "source": [
    "mypreds_test = myregr.predict(X_test)\n",
    "rmse(mypreds_test, Y_test)"
   ]
  },
  {
   "cell_type": "code",
   "execution_count": 215,
   "metadata": {},
   "outputs": [
    {
     "data": {
      "text/plain": [
       "1.4760726290495614"
      ]
     },
     "execution_count": 215,
     "metadata": {},
     "output_type": "execute_result"
    }
   ],
   "source": [
    "rmse_time(mypreds_test, Y_test)"
   ]
  },
  {
   "cell_type": "code",
   "execution_count": 197,
   "metadata": {},
   "outputs": [],
   "source": [
    "importances = myregr.feature_importances_\n",
    "std = np.std([tree.feature_importances_ for tree in myregr.estimators_],\n",
    "             axis=0)\n",
    "indices = np.argsort(importances)[::-1]\n",
    "\n",
    "# # Print the feature ranking\n",
    "# print(\"Feature ranking:\")\n",
    "\n",
    "# for f in range(X_train.shape[1]):\n",
    "#     print(\"%d. feature %d (%f)\" % (f + 1, indices[f], importances[indices[f]]))"
   ]
  },
  {
   "cell_type": "markdown",
   "metadata": {},
   "source": [
    "## Predicting by cluster means"
   ]
  },
  {
   "cell_type": "code",
   "execution_count": 156,
   "metadata": {},
   "outputs": [
    {
     "data": {
      "text/html": [
       "<div>\n",
       "<style scoped>\n",
       "    .dataframe tbody tr th:only-of-type {\n",
       "        vertical-align: middle;\n",
       "    }\n",
       "\n",
       "    .dataframe tbody tr th {\n",
       "        vertical-align: top;\n",
       "    }\n",
       "\n",
       "    .dataframe thead th {\n",
       "        text-align: right;\n",
       "    }\n",
       "</style>\n",
       "<table border=\"1\" class=\"dataframe\">\n",
       "  <thead>\n",
       "    <tr style=\"text-align: right;\">\n",
       "      <th></th>\n",
       "      <th>mean_sq0</th>\n",
       "      <th>mean_sq1</th>\n",
       "      <th>mean_sq2</th>\n",
       "      <th>mean_sq3</th>\n",
       "      <th>mean_sq4</th>\n",
       "      <th>mean_sq5</th>\n",
       "      <th>mean_sq6</th>\n",
       "      <th>mean_sq7</th>\n",
       "      <th>mean_sq8</th>\n",
       "      <th>mean_sq9</th>\n",
       "      <th>...</th>\n",
       "      <th>mean_sq1015</th>\n",
       "      <th>mean_sq1016</th>\n",
       "      <th>mean_sq1017</th>\n",
       "      <th>mean_sq1018</th>\n",
       "      <th>mean_sq1019</th>\n",
       "      <th>mean_sq1020</th>\n",
       "      <th>mean_sq1021</th>\n",
       "      <th>mean_sq1022</th>\n",
       "      <th>mean_sq1023</th>\n",
       "      <th>time_of_day</th>\n",
       "    </tr>\n",
       "  </thead>\n",
       "  <tbody>\n",
       "    <tr>\n",
       "      <th>0</th>\n",
       "      <td>1713.804688</td>\n",
       "      <td>1755.683594</td>\n",
       "      <td>1786.824219</td>\n",
       "      <td>1795.957031</td>\n",
       "      <td>1895.996094</td>\n",
       "      <td>1902.960938</td>\n",
       "      <td>1915.835938</td>\n",
       "      <td>1922.406250</td>\n",
       "      <td>1970.527344</td>\n",
       "      <td>1964.246094</td>\n",
       "      <td>...</td>\n",
       "      <td>2483.660156</td>\n",
       "      <td>2432.089844</td>\n",
       "      <td>2423.089844</td>\n",
       "      <td>2425.386719</td>\n",
       "      <td>2284.121094</td>\n",
       "      <td>2261.871094</td>\n",
       "      <td>2293.031250</td>\n",
       "      <td>2167.734375</td>\n",
       "      <td>2123.457031</td>\n",
       "      <td>3.750892</td>\n",
       "    </tr>\n",
       "    <tr>\n",
       "      <th>1</th>\n",
       "      <td>1667.105469</td>\n",
       "      <td>1702.195312</td>\n",
       "      <td>1743.519531</td>\n",
       "      <td>1744.703125</td>\n",
       "      <td>1845.398438</td>\n",
       "      <td>1844.910156</td>\n",
       "      <td>1859.921875</td>\n",
       "      <td>1869.488281</td>\n",
       "      <td>1927.914062</td>\n",
       "      <td>1924.750000</td>\n",
       "      <td>...</td>\n",
       "      <td>2465.074219</td>\n",
       "      <td>2417.628906</td>\n",
       "      <td>2409.375000</td>\n",
       "      <td>2396.800781</td>\n",
       "      <td>2256.851562</td>\n",
       "      <td>2240.300781</td>\n",
       "      <td>2271.394531</td>\n",
       "      <td>2143.828125</td>\n",
       "      <td>2097.484375</td>\n",
       "      <td>3.846050</td>\n",
       "    </tr>\n",
       "    <tr>\n",
       "      <th>2</th>\n",
       "      <td>1641.464844</td>\n",
       "      <td>1676.917969</td>\n",
       "      <td>1719.128906</td>\n",
       "      <td>1711.695312</td>\n",
       "      <td>1809.792969</td>\n",
       "      <td>1815.007812</td>\n",
       "      <td>1830.867188</td>\n",
       "      <td>1836.640625</td>\n",
       "      <td>1892.210938</td>\n",
       "      <td>1894.734375</td>\n",
       "      <td>...</td>\n",
       "      <td>2474.414062</td>\n",
       "      <td>2421.132812</td>\n",
       "      <td>2410.882812</td>\n",
       "      <td>2400.734375</td>\n",
       "      <td>2257.105469</td>\n",
       "      <td>2244.863281</td>\n",
       "      <td>2276.769531</td>\n",
       "      <td>2148.519531</td>\n",
       "      <td>2100.277344</td>\n",
       "      <td>3.946050</td>\n",
       "    </tr>\n",
       "    <tr>\n",
       "      <th>3</th>\n",
       "      <td>1594.101562</td>\n",
       "      <td>1632.632812</td>\n",
       "      <td>1666.039062</td>\n",
       "      <td>1674.906250</td>\n",
       "      <td>1765.410156</td>\n",
       "      <td>1764.589844</td>\n",
       "      <td>1781.234375</td>\n",
       "      <td>1788.152344</td>\n",
       "      <td>1838.632812</td>\n",
       "      <td>1848.570312</td>\n",
       "      <td>...</td>\n",
       "      <td>2455.855469</td>\n",
       "      <td>2396.984375</td>\n",
       "      <td>2384.699219</td>\n",
       "      <td>2381.550781</td>\n",
       "      <td>2234.535156</td>\n",
       "      <td>2213.925781</td>\n",
       "      <td>2251.421875</td>\n",
       "      <td>2121.406250</td>\n",
       "      <td>2076.019531</td>\n",
       "      <td>4.046050</td>\n",
       "    </tr>\n",
       "    <tr>\n",
       "      <th>4</th>\n",
       "      <td>1584.234375</td>\n",
       "      <td>1622.046875</td>\n",
       "      <td>1657.960938</td>\n",
       "      <td>1656.925781</td>\n",
       "      <td>1750.480469</td>\n",
       "      <td>1748.570312</td>\n",
       "      <td>1761.894531</td>\n",
       "      <td>1767.906250</td>\n",
       "      <td>1812.820312</td>\n",
       "      <td>1827.644531</td>\n",
       "      <td>...</td>\n",
       "      <td>2463.121094</td>\n",
       "      <td>2415.062500</td>\n",
       "      <td>2399.242188</td>\n",
       "      <td>2387.968750</td>\n",
       "      <td>2246.507812</td>\n",
       "      <td>2223.867188</td>\n",
       "      <td>2251.546875</td>\n",
       "      <td>2127.738281</td>\n",
       "      <td>2079.640625</td>\n",
       "      <td>4.146050</td>\n",
       "    </tr>\n",
       "  </tbody>\n",
       "</table>\n",
       "<p>5 rows × 1025 columns</p>\n",
       "</div>"
      ],
      "text/plain": [
       "      mean_sq0     mean_sq1     mean_sq2     mean_sq3     mean_sq4  \\\n",
       "0  1713.804688  1755.683594  1786.824219  1795.957031  1895.996094   \n",
       "1  1667.105469  1702.195312  1743.519531  1744.703125  1845.398438   \n",
       "2  1641.464844  1676.917969  1719.128906  1711.695312  1809.792969   \n",
       "3  1594.101562  1632.632812  1666.039062  1674.906250  1765.410156   \n",
       "4  1584.234375  1622.046875  1657.960938  1656.925781  1750.480469   \n",
       "\n",
       "      mean_sq5     mean_sq6     mean_sq7     mean_sq8     mean_sq9  \\\n",
       "0  1902.960938  1915.835938  1922.406250  1970.527344  1964.246094   \n",
       "1  1844.910156  1859.921875  1869.488281  1927.914062  1924.750000   \n",
       "2  1815.007812  1830.867188  1836.640625  1892.210938  1894.734375   \n",
       "3  1764.589844  1781.234375  1788.152344  1838.632812  1848.570312   \n",
       "4  1748.570312  1761.894531  1767.906250  1812.820312  1827.644531   \n",
       "\n",
       "      ...       mean_sq1015  mean_sq1016  mean_sq1017  mean_sq1018  \\\n",
       "0     ...       2483.660156  2432.089844  2423.089844  2425.386719   \n",
       "1     ...       2465.074219  2417.628906  2409.375000  2396.800781   \n",
       "2     ...       2474.414062  2421.132812  2410.882812  2400.734375   \n",
       "3     ...       2455.855469  2396.984375  2384.699219  2381.550781   \n",
       "4     ...       2463.121094  2415.062500  2399.242188  2387.968750   \n",
       "\n",
       "   mean_sq1019  mean_sq1020  mean_sq1021  mean_sq1022  mean_sq1023  \\\n",
       "0  2284.121094  2261.871094  2293.031250  2167.734375  2123.457031   \n",
       "1  2256.851562  2240.300781  2271.394531  2143.828125  2097.484375   \n",
       "2  2257.105469  2244.863281  2276.769531  2148.519531  2100.277344   \n",
       "3  2234.535156  2213.925781  2251.421875  2121.406250  2076.019531   \n",
       "4  2246.507812  2223.867188  2251.546875  2127.738281  2079.640625   \n",
       "\n",
       "   time_of_day  \n",
       "0     3.750892  \n",
       "1     3.846050  \n",
       "2     3.946050  \n",
       "3     4.046050  \n",
       "4     4.146050  \n",
       "\n",
       "[5 rows x 1025 columns]"
      ]
     },
     "execution_count": 156,
     "metadata": {},
     "output_type": "execute_result"
    }
   ],
   "source": [
    "predsquares16df.head()"
   ]
  },
  {
   "cell_type": "code",
   "execution_count": 162,
   "metadata": {},
   "outputs": [],
   "source": [
    "with open('cluster_dict_0.txt', 'r', encoding='utf-8') as cld0:\n",
    "    feature_cluster0 = [int(line.strip()) for line in cld0.readlines()]\n",
    "with open('cluster_dict_1.txt', 'r', encoding='utf-8') as cld1:\n",
    "    feature_cluster1 = [int(line.strip()) for line in cld1.readlines()]\n",
    "with open('cluster_dict_2.txt', 'r', encoding='utf-8') as cld2:\n",
    "    feature_cluster2 = [int(line.strip()) for line in cld2.readlines()]\n",
    "with open('cluster_dict_3.txt', 'r', encoding='utf-8') as cld3:\n",
    "    feature_cluster3 = [int(line.strip()) for line in cld3.readlines()]"
   ]
  },
  {
   "cell_type": "markdown",
   "metadata": {},
   "source": [
    "Note that the cluster numbers do not match the pixel-by-cluster file"
   ]
  },
  {
   "cell_type": "code",
   "execution_count": 171,
   "metadata": {},
   "outputs": [
    {
     "data": {
      "image/png": "[encoded data removed]",
      "text/plain": [
       "<matplotlib.figure.Figure at 0x21b555be6d8>"
      ]
     },
     "metadata": {},
     "output_type": "display_data"
    }
   ],
   "source": [
    "plt.figure(figsize=(7,5))\n",
    "plt.plot(list(range(1685)), feature_cluster0, label='0, Surroundings')\n",
    "plt.plot(list(range(1685)), feature_cluster1, label='1, Inner SCN')\n",
    "plt.plot(list(range(1685)), feature_cluster2, label='2, Outer SCN')\n",
    "plt.plot(list(range(1685)), feature_cluster3, label='3, Ventricle')\n",
    "plt.legend()\n",
    "plt.show()"
   ]
  },
  {
   "cell_type": "code",
   "execution_count": 172,
   "metadata": {},
   "outputs": [],
   "source": [
    "clusterspreddf = pd.DataFrame(data={'time_of_day': predsquares16df.time_of_day,\n",
    "                                    'inner': feature_cluster1,\n",
    "                                    'outer': feature_cluster2,\n",
    "                                    'ventricle': feature_cluster3,\n",
    "                                    'surroundings': feature_cluster0})"
   ]
  },
  {
   "cell_type": "code",
   "execution_count": 173,
   "metadata": {},
   "outputs": [
    {
     "data": {
      "text/html": [
       "<div>\n",
       "<style scoped>\n",
       "    .dataframe tbody tr th:only-of-type {\n",
       "        vertical-align: middle;\n",
       "    }\n",
       "\n",
       "    .dataframe tbody tr th {\n",
       "        vertical-align: top;\n",
       "    }\n",
       "\n",
       "    .dataframe thead th {\n",
       "        text-align: right;\n",
       "    }\n",
       "</style>\n",
       "<table border=\"1\" class=\"dataframe\">\n",
       "  <thead>\n",
       "    <tr style=\"text-align: right;\">\n",
       "      <th></th>\n",
       "      <th>inner</th>\n",
       "      <th>outer</th>\n",
       "      <th>surroundings</th>\n",
       "      <th>time_of_day</th>\n",
       "      <th>ventricle</th>\n",
       "    </tr>\n",
       "  </thead>\n",
       "  <tbody>\n",
       "    <tr>\n",
       "      <th>0</th>\n",
       "      <td>2970</td>\n",
       "      <td>2668</td>\n",
       "      <td>2124</td>\n",
       "      <td>3.750892</td>\n",
       "      <td>2951</td>\n",
       "    </tr>\n",
       "    <tr>\n",
       "      <th>1</th>\n",
       "      <td>2945</td>\n",
       "      <td>2626</td>\n",
       "      <td>2079</td>\n",
       "      <td>3.846050</td>\n",
       "      <td>2970</td>\n",
       "    </tr>\n",
       "    <tr>\n",
       "      <th>2</th>\n",
       "      <td>2944</td>\n",
       "      <td>2610</td>\n",
       "      <td>2053</td>\n",
       "      <td>3.946050</td>\n",
       "      <td>3009</td>\n",
       "    </tr>\n",
       "    <tr>\n",
       "      <th>3</th>\n",
       "      <td>2912</td>\n",
       "      <td>2566</td>\n",
       "      <td>2006</td>\n",
       "      <td>4.046050</td>\n",
       "      <td>3009</td>\n",
       "    </tr>\n",
       "    <tr>\n",
       "      <th>4</th>\n",
       "      <td>2914</td>\n",
       "      <td>2552</td>\n",
       "      <td>1988</td>\n",
       "      <td>4.146050</td>\n",
       "      <td>3025</td>\n",
       "    </tr>\n",
       "  </tbody>\n",
       "</table>\n",
       "</div>"
      ],
      "text/plain": [
       "   inner  outer  surroundings  time_of_day  ventricle\n",
       "0   2970   2668          2124     3.750892       2951\n",
       "1   2945   2626          2079     3.846050       2970\n",
       "2   2944   2610          2053     3.946050       3009\n",
       "3   2912   2566          2006     4.046050       3009\n",
       "4   2914   2552          1988     4.146050       3025"
      ]
     },
     "execution_count": 173,
     "metadata": {},
     "output_type": "execute_result"
    }
   ],
   "source": [
    "clusterspreddf.head()"
   ]
  },
  {
   "cell_type": "code",
   "execution_count": 224,
   "metadata": {},
   "outputs": [],
   "source": [
    "cl_train, cl_test = train_test_split(clusterspreddf, test_size=0.2, random_state=0)"
   ]
  },
  {
   "cell_type": "code",
   "execution_count": 225,
   "metadata": {},
   "outputs": [
    {
     "data": {
      "text/plain": [
       "(1348, 5)"
      ]
     },
     "execution_count": 225,
     "metadata": {},
     "output_type": "execute_result"
    }
   ],
   "source": [
    "cl_train.shape"
   ]
  },
  {
   "cell_type": "code",
   "execution_count": 226,
   "metadata": {},
   "outputs": [
    {
     "data": {
      "text/plain": [
       "(337, 5)"
      ]
     },
     "execution_count": 226,
     "metadata": {},
     "output_type": "execute_result"
    }
   ],
   "source": [
    "cl_test.shape"
   ]
  },
  {
   "cell_type": "code",
   "execution_count": 228,
   "metadata": {},
   "outputs": [],
   "source": [
    "X_cl_train, Y_cl_train = cl_train.drop('time_of_day', axis=1), cl_train.time_of_day\n",
    "X_cl_test, Y_cl_test = cl_test.drop('time_of_day', axis=1), cl_test.time_of_day"
   ]
  },
  {
   "cell_type": "code",
   "execution_count": 254,
   "metadata": {},
   "outputs": [],
   "source": [
    "clregr = RandomForestRegressor(max_depth=5, min_samples_leaf=1, n_estimators=20, random_state=0)"
   ]
  },
  {
   "cell_type": "code",
   "execution_count": 255,
   "metadata": {},
   "outputs": [
    {
     "data": {
      "text/plain": [
       "RandomForestRegressor(bootstrap=True, criterion='mse', max_depth=5,\n",
       "           max_features='auto', max_leaf_nodes=None,\n",
       "           min_impurity_decrease=0.0, min_impurity_split=None,\n",
       "           min_samples_leaf=1, min_samples_split=2,\n",
       "           min_weight_fraction_leaf=0.0, n_estimators=20, n_jobs=1,\n",
       "           oob_score=False, random_state=0, verbose=0, warm_start=False)"
      ]
     },
     "execution_count": 255,
     "metadata": {},
     "output_type": "execute_result"
    }
   ],
   "source": [
    "clregr.fit(X_cl_train, Y_cl_train)"
   ]
  },
  {
   "cell_type": "code",
   "execution_count": 256,
   "metadata": {},
   "outputs": [
    {
     "data": {
      "text/plain": [
       "3.2781778051398596"
      ]
     },
     "execution_count": 256,
     "metadata": {},
     "output_type": "execute_result"
    }
   ],
   "source": [
    "clpreds_train = clregr.predict(X_cl_train)\n",
    "rmse(clpreds_train, Y_cl_train)"
   ]
  },
  {
   "cell_type": "code",
   "execution_count": 250,
   "metadata": {},
   "outputs": [
    {
     "data": {
      "text/plain": [
       "1.1560913138710205"
      ]
     },
     "execution_count": 250,
     "metadata": {},
     "output_type": "execute_result"
    }
   ],
   "source": [
    "rmse_time(clpreds_train, Y_cl_train)"
   ]
  },
  {
   "cell_type": "code",
   "execution_count": 239,
   "metadata": {},
   "outputs": [
    {
     "data": {
      "text/plain": [
       "1.9986777871476478"
      ]
     },
     "execution_count": 239,
     "metadata": {},
     "output_type": "execute_result"
    }
   ],
   "source": [
    "clpreds_test = clregr.predict(X_cl_test)\n",
    "rmse(clpreds_test, Y_cl_test)"
   ]
  },
  {
   "cell_type": "code",
   "execution_count": 669,
   "metadata": {},
   "outputs": [
    {
     "data": {
      "text/plain": [
       "0.78044089555559193"
      ]
     },
     "execution_count": 669,
     "metadata": {},
     "output_type": "execute_result"
    }
   ],
   "source": [
    "rmse_time(clpreds_train, Y_train)"
   ]
  },
  {
   "cell_type": "code",
   "execution_count": 670,
   "metadata": {},
   "outputs": [
    {
     "data": {
      "text/plain": [
       "1.0636466085778533"
      ]
     },
     "execution_count": 670,
     "metadata": {},
     "output_type": "execute_result"
    }
   ],
   "source": [
    "rmse_time(clpreds_test, Y_test)"
   ]
  },
  {
   "cell_type": "code",
   "execution_count": 257,
   "metadata": {},
   "outputs": [],
   "source": [
    "rfregr = RandomForestRegressor()"
   ]
  },
  {
   "cell_type": "code",
   "execution_count": 258,
   "metadata": {},
   "outputs": [],
   "source": [
    "param_grid = [{'n_estimators': [5, 10, 20, 25, 30, 40, 50, 75, 100, 150, 200],\n",
    "               'max_depth': [1, 2, 3, 5, 7, 10, 15, 20, 30],\n",
    "               'min_samples_leaf': [1, 2, 5, 7], 'random_state': [0]}]"
   ]
  },
  {
   "cell_type": "code",
   "execution_count": 259,
   "metadata": {},
   "outputs": [],
   "source": [
    "gss_cl = GridSearchCV(rfregr, param_grid, cv=5)"
   ]
  },
  {
   "cell_type": "code",
   "execution_count": 261,
   "metadata": {},
   "outputs": [
    {
     "data": {
      "text/plain": [
       "GridSearchCV(cv=5, error_score='raise',\n",
       "       estimator=RandomForestRegressor(bootstrap=True, criterion='mse', max_depth=None,\n",
       "           max_features='auto', max_leaf_nodes=None,\n",
       "           min_impurity_decrease=0.0, min_impurity_split=None,\n",
       "           min_samples_leaf=1, min_samples_split=2,\n",
       "           min_weight_fraction_leaf=0.0, n_estimators=10, n_jobs=1,\n",
       "           oob_score=False, random_state=None, verbose=0, warm_start=False),\n",
       "       fit_params=None, iid=True, n_jobs=1,\n",
       "       param_grid=[{'random_state': [0], 'max_depth': [1, 2, 3, 5, 7, 10, 15, 20, 30], 'n_estimators': [5, 10, 20, 25, 30, 40, 50, 75, 100, 150, 200], 'min_samples_leaf': [1, 2, 5, 7]}],\n",
       "       pre_dispatch='2*n_jobs', refit=True, return_train_score='warn',\n",
       "       scoring=None, verbose=0)"
      ]
     },
     "execution_count": 261,
     "metadata": {},
     "output_type": "execute_result"
    }
   ],
   "source": [
    "gss_cl.fit(X_cl_train, Y_cl_train)"
   ]
  },
  {
   "cell_type": "code",
   "execution_count": 263,
   "metadata": {},
   "outputs": [
    {
     "data": {
      "text/plain": [
       "{'max_depth': 15,\n",
       " 'min_samples_leaf': 1,\n",
       " 'n_estimators': 100,\n",
       " 'random_state': 0}"
      ]
     },
     "execution_count": 263,
     "metadata": {},
     "output_type": "execute_result"
    }
   ],
   "source": [
    "gss_cl.best_params_"
   ]
  },
  {
   "cell_type": "code",
   "execution_count": 264,
   "metadata": {},
   "outputs": [],
   "source": [
    "myclregr = RandomForestRegressor(max_depth=15, min_samples_leaf=1,\n",
    "                                 n_estimators=100, random_state=0)"
   ]
  },
  {
   "cell_type": "code",
   "execution_count": 265,
   "metadata": {},
   "outputs": [
    {
     "data": {
      "text/plain": [
       "RandomForestRegressor(bootstrap=True, criterion='mse', max_depth=15,\n",
       "           max_features='auto', max_leaf_nodes=None,\n",
       "           min_impurity_decrease=0.0, min_impurity_split=None,\n",
       "           min_samples_leaf=1, min_samples_split=2,\n",
       "           min_weight_fraction_leaf=0.0, n_estimators=100, n_jobs=1,\n",
       "           oob_score=False, random_state=0, verbose=0, warm_start=False)"
      ]
     },
     "execution_count": 265,
     "metadata": {},
     "output_type": "execute_result"
    }
   ],
   "source": [
    "myclregr.fit(X_cl_train, Y_cl_train)"
   ]
  },
  {
   "cell_type": "code",
   "execution_count": 266,
   "metadata": {},
   "outputs": [
    {
     "data": {
      "text/plain": [
       "0.84411886403787939"
      ]
     },
     "execution_count": 266,
     "metadata": {},
     "output_type": "execute_result"
    }
   ],
   "source": [
    "myclpreds_train = myclregr.predict(X_cl_train)\n",
    "rmse(myclpreds_train, Y_cl_train)"
   ]
  },
  {
   "cell_type": "code",
   "execution_count": 267,
   "metadata": {},
   "outputs": [
    {
     "data": {
      "text/plain": [
       "0.84411886403787939"
      ]
     },
     "execution_count": 267,
     "metadata": {},
     "output_type": "execute_result"
    }
   ],
   "source": [
    "rmse_time(myclpreds_train, Y_cl_train)"
   ]
  },
  {
   "cell_type": "code",
   "execution_count": 269,
   "metadata": {},
   "outputs": [
    {
     "data": {
      "text/plain": [
       "1.9365324092713794"
      ]
     },
     "execution_count": 269,
     "metadata": {},
     "output_type": "execute_result"
    }
   ],
   "source": [
    "myclpreds_test = myclregr.predict(X_cl_test)\n",
    "rmse_time(myclpreds_test, Y_cl_test)"
   ]
  },
  {
   "cell_type": "code",
   "execution_count": null,
   "metadata": {},
   "outputs": [],
   "source": []
  }
 ],
 "metadata": {
  "kernelspec": {
   "display_name": "Python 3",
   "language": "python",
   "name": "python3"
  },
  "language_info": {
   "codemirror_mode": {
    "name": "ipython",
    "version": 3
   },
   "file_extension": ".py",
   "mimetype": "text/x-python",
   "name": "python",
   "nbconvert_exporter": "python",
   "pygments_lexer": "ipython3",
   "version": "3.5.4"
  }
 },
 "nbformat": 4,
 "nbformat_minor": 2
}
